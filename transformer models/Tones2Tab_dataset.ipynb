{
  "nbformat": 4,
  "nbformat_minor": 0,
  "metadata": {
    "colab": {
      "provenance": []
    },
    "kernelspec": {
      "name": "python3",
      "display_name": "Python 3"
    },
    "language_info": {
      "name": "python"
    }
  },
  "cells": [
    {
      "cell_type": "markdown",
      "source": [
        "Run each cell in order to create a dataset of 180000 inputs and outputs and save to drive"
      ],
      "metadata": {
        "id": "fA3F-PzOnVOk"
      }
    },
    {
      "cell_type": "code",
      "source": [
        "import numpy as np\n",
        "from numpy import random\n",
        "import tensorflow as tf\n",
        "from google.colab import drive\n",
        "drive.mount('/content/drive')"
      ],
      "metadata": {
        "colab": {
          "base_uri": "https://localhost:8080/"
        },
        "id": "Q6S0aOr4kSGF",
        "outputId": "ae391d88-9717-4cbc-f0c8-0055ff9cba8e"
      },
      "execution_count": 1,
      "outputs": [
        {
          "output_type": "stream",
          "name": "stdout",
          "text": [
            "Mounted at /content/drive\n"
          ]
        }
      ]
    },
    {
      "cell_type": "code",
      "execution_count": 3,
      "metadata": {
        "id": "_nMs3EtBkKCm"
      },
      "outputs": [],
      "source": [
        "T = 48\n",
        "Q = 8 # T/Q should be an integer\n",
        "N = int(T/Q)\n",
        "A = 440 # Hz\n",
        "guitar = [[A*pow(2,(-29+i)/12) for i in range(24)],\n",
        "          [A*pow(2,(-24+i)/12) for i in range(24)],\n",
        "          [A*pow(2,(-19+i)/12) for i in range(24)],\n",
        "          [A*pow(2,(-14+i)/12) for i in range(24)],\n",
        "          [A*pow(2,(-10+i)/12) for i in range(24)],\n",
        "          [A*pow(2,(-5+i)/12) for i in range(24)]]\n",
        "\n",
        "def next_key(chords):\n",
        "  next = [[[0 for i in range(3)] for j in range(6)] for k in range(6)]\n",
        "  for i in range(6):\n",
        "    for j in range(6):\n",
        "      next[i][j] = chords[i][j].copy()\n",
        "      next[i][j][2] = next[i][j][2] + 1\n",
        "    if next[i][4][2] == 12:\n",
        "      next[i].pop()\n",
        "      next[i].insert(0,next[i][4].copy())\n",
        "      next[i][0][2] = next[i][0][2] - 12\n",
        "  return next\n",
        "\n",
        "def chord2tab(chord,mute_prob=0.1):\n",
        "  m = 0 # mute token\n",
        "  tab = [m for i in range(6)]\n",
        "  color = chord[0]\n",
        "  shape = chord[1]\n",
        "  fret = chord[2]\n",
        "\n",
        "  if color == 0: # major chords\n",
        "    if shape == 0: tab = [m,4,3,1,2,1]\n",
        "    elif shape == 1: tab = [m,1,3,3,3,1]\n",
        "    elif shape == 2: tab = [4,3,1,1,4,4]\n",
        "    elif shape == 3: tab = [1,3,3,2,1,1]\n",
        "    elif shape == 4: tab = [m,m,1,3,4,3]\n",
        "  elif color == 1: # minor chords\n",
        "    if shape == 0: tab = [m,4,2,1,2,m]\n",
        "    elif shape == 1: tab = [m,1,3,3,2,1]\n",
        "    elif shape == 2: tab = [4,2,1,1,4,4]\n",
        "    elif shape == 3: tab = [1,3,3,1,1,1]\n",
        "    elif shape == 4: tab = [m,m,1,3,4,2]\n",
        "\n",
        "  tab = [tab[i] if random.rand() > mute_prob else m for i in range(6)]\n",
        "\n",
        "  return [tab[i] + fret if tab[i] != m else m for i in range(6)]\n",
        "\n",
        "def freq2bin(freq):\n",
        "  bin_ceils = [(440*2**((i-29)/12) + 440*2**((i-28)/12))/2 for i in range(T)]\n",
        "  for i in range(T):\n",
        "    if freq < bin_ceils[i]: return i\n",
        "  return T\n",
        "\n",
        "def freqs2tones(freqs):\n",
        "  # length T array of only 0s and 1s\n",
        "  tones = [0 for i in range(T)]\n",
        "  for i in range(len(freqs)):\n",
        "    if freqs[i] != 0:\n",
        "      bin = freq2bin(freqs[i])\n",
        "      tones[bin] = 1\n",
        "\n",
        "  # convert length T binary array to length N sequence of tokens. Tokens are made by converting sets of T/N binary entries in tones to decimal\n",
        "  tokens = [0 for i in range(N)]\n",
        "  binaries = [pow(2,i) for i in range(Q)]\n",
        "  for i in range(N):\n",
        "    b = tones[i*Q:i*Q+Q]\n",
        "    tokens[i] = np.inner(binaries,b)\n",
        "\n",
        "  return tokens\n",
        "\n",
        "def tab2freqs(tab):\n",
        "  freqs = [guitar[i][tab[i]-1] if tab[i] != 0 else 0 for i in range(6)]\n",
        "  return freqs2tones(freqs)\n",
        "\n",
        "def make_tones2tab_dataset(mute_prob=0.1):\n",
        "  # specify csf chord representations\n",
        "  c = [[[0,0,0],[0,1,3],[0,2,5],[0,3,8],[0,4,10],[0,0,12]], # 1\n",
        "      [[1,4,0],[1,0,2],[1,1,5],[1,2,7],[1,3,10],[1,4,12]], # 2\n",
        "      [[1,3,0],[1,4,2],[1,0,4],[1,1,7],[1,2,9],[1,3,12]], # 3\n",
        "      [[0,3,1],[0,4,3],[0,0,5],[0,1,8],[0,2,10],[0,3,13]], # 4\n",
        "      [[0,2,0],[0,3,3],[0,4,5],[0,0,7],[0,1,10],[0,2,12]], # 5\n",
        "      [[1,1,0],[1,2,2],[1,3,5],[1,4,7],[1,0,9],[1,1,12]]] # 6\n",
        "  csharp = next_key(c)\n",
        "  d = next_key(csharp)\n",
        "  dsharp = next_key(d)\n",
        "  e = next_key(dsharp)\n",
        "  f = next_key(e)\n",
        "  fsharp = next_key(f)\n",
        "  g = next_key(fsharp)\n",
        "  gsharp = next_key(g)\n",
        "  a = next_key(gsharp)\n",
        "  asharp = next_key(a)\n",
        "  b = next_key(asharp)\n",
        "  keys = [c,csharp,d,dsharp,e,f,fsharp,g,gsharp,a,asharp,b]\n",
        "\n",
        "  # store as tablature\n",
        "  desired_dataset_length = 180000\n",
        "  cycles = int(desired_dataset_length/(12*6*6))\n",
        "  tabs = np.zeros((cycles,12,6,6,6))\n",
        "  for l in range(cycles):\n",
        "    for i in range(len(keys)):\n",
        "      for j in range(6):\n",
        "        #rand = random.randint(1,13)\n",
        "        for k in range(6):\n",
        "          #tabs[l][i][j][k] = [random.randint(rand,rand+3), random.randint(rand,rand+3), random.randint(rand,rand+3), random.randint(rand,rand+3), random.randint(rand,rand+3), random.randint(rand,rand+3)]\n",
        "          tabs[l][i][j][k] = chord2tab(keys[i][j][k].copy())\n",
        "\n",
        "  # reshape\n",
        "  tabs = tf.cast(np.reshape(tabs, (tabs.shape[0]*tabs.shape[1]*tabs.shape[2]*tabs.shape[3],6)),tf.int32)\n",
        "\n",
        "  # generate outputs after randomly muting strings\n",
        "  tabs = [[tabs[i][j] if random.rand() > mute_prob else 0 for j in range(6)] for i in range(len(tabs))]\n",
        "  tones = [tab2freqs(tabs[i]) for i in range(len(tabs))]\n",
        "\n",
        "  # convert inputs and outputs to tensors\n",
        "  inputs = tf.convert_to_tensor(tones, dtype=tf.int32)\n",
        "  outputs = tf.convert_to_tensor(tabs, dtype=tf.int32)\n",
        "  print()\n",
        "  print('Shape of the input tensors: ' + str(tf.shape(inputs)))\n",
        "  print('Shape of the output tensors: ' + str(tf.shape(outputs)))\n",
        "  print()\n",
        "\n",
        "  # show example\n",
        "  idx = 8\n",
        "  print('Input example: ' + str(inputs[idx].numpy()))\n",
        "  print('Resulting output: ' + str(outputs[idx].numpy()))\n",
        "\n",
        "  return inputs, outputs"
      ]
    },
    {
      "cell_type": "code",
      "source": [
        "inputs, outputs = make_tones2tab_dataset()"
      ],
      "metadata": {
        "colab": {
          "base_uri": "https://localhost:8080/"
        },
        "id": "3UdYFDIOmCNF",
        "outputId": "5396369b-918d-45dc-c082-cdc54e56e356"
      },
      "execution_count": 4,
      "outputs": [
        {
          "output_type": "stream",
          "name": "stdout",
          "text": [
            "\n",
            "Shape of the input tensors: tf.Tensor([179712      6], shape=(2,), dtype=int32)\n",
            "Shape of the output tensors: tf.Tensor([179712      6], shape=(2,), dtype=int32)\n",
            "\n",
            "Input example: [ 0  4  0 34  0  0]\n",
            "Resulting output: [0 6 0 0 7 6]\n"
          ]
        }
      ]
    },
    {
      "cell_type": "code",
      "source": [
        "t2t_dataset_inputs = np.array(inputs)\n",
        "np.save('/content/drive/My Drive/FretboardAI/t2t_dataset_inputs',t2t_dataset_inputs)"
      ],
      "metadata": {
        "id": "pTo8G4sfmR9J"
      },
      "execution_count": 5,
      "outputs": []
    },
    {
      "cell_type": "code",
      "source": [
        "t2t_dataset_outputs = np.array(outputs)\n",
        "np.save('/content/drive/My Drive/FretboardAI/t2t_dataset_outputs',t2t_dataset_outputs)"
      ],
      "metadata": {
        "id": "T2HVKIYfnIZ2"
      },
      "execution_count": 6,
      "outputs": []
    }
  ]
}