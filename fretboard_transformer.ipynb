{
  "nbformat": 4,
  "nbformat_minor": 0,
  "metadata": {
    "colab": {
      "provenance": [],
      "collapsed_sections": [
        "-pSsrRBVL3bn",
        "EsDm1wANzlZy",
        "GtUHPBC3yJ-p",
        "nZ7v-PnqsWv-",
        "VNWN8LpiSWg9",
        "jTa1y9YAqWzq",
        "TRMmHGBmgUJe",
        "s6PRVY4kz3Rj",
        "MgVMZXH9IzbM",
        "S0OwgSL7kp9T",
        "2Ks9uXjrzfPw",
        "4hOpzgxtSNME",
        "PQR2QaKai0IV"
      ],
      "gpuType": "T4"
    },
    "kernelspec": {
      "name": "python3",
      "display_name": "Python 3"
    },
    "language_info": {
      "name": "python"
    },
    "accelerator": "GPU"
  },
  "cells": [
    {
      "cell_type": "markdown",
      "source": [
        "# Create the dataset"
      ],
      "metadata": {
        "id": "qJk-zUBwzWRj"
      }
    },
    {
      "cell_type": "markdown",
      "source": [
        "### import"
      ],
      "metadata": {
        "id": "EsDm1wANzlZy"
      }
    },
    {
      "cell_type": "code",
      "execution_count": 2,
      "metadata": {
        "id": "k0-USx1LzN5l"
      },
      "outputs": [],
      "source": [
        "import numpy as np\n",
        "from numpy import random\n",
        "import torch\n",
        "from torch import nn\n",
        "import tensorflow as tf\n",
        "import math\n",
        "import matplotlib.pyplot as plt\n",
        "from tensorflow import keras"
      ]
    },
    {
      "cell_type": "markdown",
      "source": [
        "### params"
      ],
      "metadata": {
        "id": "-pSsrRBVL3bn"
      }
    },
    {
      "cell_type": "code",
      "source": [
        "N = 12\n",
        "D = 96\n",
        "H = 8\n",
        "batch_size = 32\n",
        "possible_tokens = [0,1,2,3,4,5,6,7,8,9,10,11,12,13,14,15,16,17,18,19,20,21,22,24,25,26,27,28,29,30]\n",
        "vocab_length = len(possible_tokens)\n",
        "mute_token = 25\n",
        "mask_token = 26\n",
        "key_token = 27\n",
        "dff = D*4\n",
        "output_dim = 24+N\n",
        "mask_input_prob = 0.05"
      ],
      "metadata": {
        "id": "W411veCHdXpU"
      },
      "execution_count": 1,
      "outputs": []
    },
    {
      "cell_type": "markdown",
      "source": [
        "### specify chord patterns and progressions on the fretboard"
      ],
      "metadata": {
        "id": "GtUHPBC3yJ-p"
      }
    },
    {
      "cell_type": "code",
      "source": [
        "def next_key(chords):\n",
        "  next = np.zeros([7,6,6],int)\n",
        "  for i in range(len(next)):\n",
        "    for j in range(len(next[i])):\n",
        "      voicing = chords[i][j][:]\n",
        "      for k in range(len(voicing)):\n",
        "        if voicing[k] != 25:\n",
        "          next[i][j][k] = voicing[k]+1\n",
        "        else:\n",
        "          next[i][j][k] = voicing[k]\n",
        "\n",
        "  for i in range(len(next)):\n",
        "    voicing = next[i][4]\n",
        "    cycle = 1\n",
        "    for k in range(len(voicing)):\n",
        "      if voicing[k] < 12 and voicing[k] != 25:\n",
        "        cycle = 0\n",
        "    if cycle == 1:\n",
        "      new = np.array([[voicing[0]-12 if voicing[0] != 25 else 25,\n",
        "                       voicing[1]-12 if voicing[1] != 25 else 25,\n",
        "                       voicing[2]-12 if voicing[2] != 25 else 25,\n",
        "                       voicing[3]-12 if voicing[3] != 25 else 25,\n",
        "                       voicing[4]-12 if voicing[4] != 25 else 25,\n",
        "                       voicing[5]-12 if voicing[5] != 25 else 25]])\n",
        "      temp = np.concatenate((new,next[i]))\n",
        "      next[i] = temp[:6,:]\n",
        "      cycle = 0\n",
        "\n",
        "  return next"
      ],
      "metadata": {
        "id": "ZCP0369PBnLF"
      },
      "execution_count": 3,
      "outputs": []
    },
    {
      "cell_type": "markdown",
      "source": [
        "specify chords in each key"
      ],
      "metadata": {
        "id": "m9xSAPILkVxi"
      }
    },
    {
      "cell_type": "code",
      "source": [
        "c = [[[25,3,2,0,1,0],[25,3,5,5,5,3],[8,7,5,5,8,8],[8,10,10,9,8,8],[25,25,10,12,13,12],[25,15,14,12,13,12]], # 1\n",
        "     [[25,25,0,2,3,1],[25,5,3,2,3,25],[25,5,7,7,6,5],[10,8,7,7,10,10],[10,12,12,10,10,10],[25,25,12,14,15,13]], # 2\n",
        "     [[0,2,2,0,0,0],[25,25,2,4,5,3],[25,7,5,4,3,25],[25,7,9,9,8,7],[12,10,9,9,12,12],[12,14,14,12,12,12]], # 3\n",
        "     [[1,3,3,2,1,1],[25,25,3,5,6,5],[25,8,7,5,6,5],[25,8,10,10,10,8],[13,12,10,10,13,13],[13,15,15,14,13,13]], # 4\n",
        "     [[3,2,0,0,3,3],[3,5,5,4,3,3],[25,25,5,7,8,7],[25,10,9,7,8,7],[25,10,12,12,12,10],[15,14,12,12,15,15]], # 5\n",
        "     [[25,0,2,2,1,0],[5,3,2,2,5,5],[5,7,7,5,5,5],[25,25,7,9,10,8],[25,12,10,9,10,25],[25,12,14,14,13,12]], # 6\n",
        "     [[25,2,3,4,3,1],[7,5,3,4,6,7],[7,8,9,7,6,7],[25,25,9,10,12,10],[25,14,12,10,12,13],[25,14,15,16,15,13]]] # 7\n",
        "csharp = next_key(c)\n",
        "d = next_key(csharp)\n",
        "dsharp = next_key(d)\n",
        "e = next_key(dsharp)\n",
        "f = next_key(e)\n",
        "fsharp = next_key(f)\n",
        "g = next_key(fsharp)\n",
        "gsharp = next_key(g)\n",
        "a = next_key(gsharp)\n",
        "asharp = next_key(a)\n",
        "b = next_key(asharp)\n",
        "keys = [c,csharp,d,dsharp,e,f,fsharp,g,gsharp,a,asharp,b]"
      ],
      "metadata": {
        "id": "JmWC1BO51J25"
      },
      "execution_count": 4,
      "outputs": []
    },
    {
      "cell_type": "markdown",
      "source": [
        "specify progressions"
      ],
      "metadata": {
        "id": "ktE5XCJhkmAR"
      }
    },
    {
      "cell_type": "code",
      "source": [
        "major_progs = [[1,1,4,3],[1,3,4,6],[1,3,6,4],[1,4,2,5],[1,4,5,4],[1,4,5,5],[1,4,6,5],[1,4,7,3,6,2,5,1],[1,5,1,4],[1,5,4,6],\n",
        "                  [1,5,6,2],[1,5,6,3,4,1,4,5],[1,5,6,3,4],[1,5,6,4],[1,5,6,5],[1,6,1,4],[1,6,2,4],[1,6,2,5],[1,6,4,3],\n",
        "                  [1,6,4,5],[2,4,5,5],[2,4,6,5],[2,5,1,1],[2,5,1,4],[3,6,4,1],[4,1,2,6],[4,1,3,4],[4,1,5,6],[4,4,1,5],\n",
        "                  [4,6,1,5],[4,6,3,1],[4,6,4,6],[5,1,6,5],[5,4,6,1],[5,6,4,1],[6,2,5,1],[6,4,1,5],[6,5,4,5,2,5,1,1],[6,5,4,5]]\n",
        "minor_progs = [[6,7,3,6],[6,1,2,4],[6,1,5,4],[6,2,1,4],[6,2,3,2],[6,2,3,3],[6,2,4,3],[6,2,5,6],[6,2,5,3,6,6,7,3],\n",
        "                        [6,3,2,5],[6,4,1,5],[6,4,2,7],[6,4,2,1],[6,4,2,3],[6,4,5,3],[6,4,5,5],[6,5,6,3,1,5,6,3,6],[6,5,6,3],\n",
        "                        [6,5,3,4],[6,5,4,1,2,4,5,6],[6,5,4,1],[6,5,4,5],[7,3,6,6],[7,3,6,2],[7,4,6,2],[2,6,3,4],[2,1,5,6],\n",
        "                        [2,3,4,5],[2,4,3,5],[2,4,5,6],[3,6,2,5],[3,2,6,6],[3,4,1,6],[3,4,3,6],[4,6,3,1],[4,6,3,3],[4,1,6,3],\n",
        "                        [4,2,6,3],[4,4,6,5],[4,5,6,1],[4,5,3,1],[5,2,3,6],[5,2,5,6]]"
      ],
      "metadata": {
        "id": "dkkzMN7nklrV"
      },
      "execution_count": 5,
      "outputs": []
    },
    {
      "cell_type": "markdown",
      "source": [
        "### specify inputs and desired outputs for the model\n",
        "#####input: sequence of N=12 chord patterns in a certain key\n",
        "#####output: one of 24 possible key labels"
      ],
      "metadata": {
        "id": "31K6VjihlC-d"
      }
    },
    {
      "cell_type": "code",
      "source": [
        "prog_iterations = 150\n",
        "major_dataset = [[],[],[]]\n",
        "minor_dataset = [[],[],[]]\n",
        "for key in range(len(keys)):\n",
        "  for prog in range(len(major_progs)):\n",
        "    for iteration in range(prog_iterations):\n",
        "      sequence = [mute_token]*6*N\n",
        "      seq_class = [0]*N\n",
        "      key_class = key+1\n",
        "      for n in range(N):\n",
        "        sequence[n*6:(n*6)+6] = keys[key][major_progs[prog][n%len(major_progs[prog])]-1][random.randint(6)]\n",
        "        seq_class[n] = major_progs[prog][n%len(major_progs[prog])]\n",
        "      major_dataset[0].append(sequence)\n",
        "      major_dataset[1].append(key_class)\n",
        "      major_dataset[2].append(seq_class)\n",
        "  for prog in range(len(minor_progs)):\n",
        "    for iteration in range(prog_iterations):\n",
        "      sequence = [mute_token]*6*N\n",
        "      seq_class = [0]*N\n",
        "      key_class = key+1\n",
        "      for n in range(N):\n",
        "        sequence[n*6:(n*6)+6] = keys[key][minor_progs[prog][n%len(minor_progs[prog])]-1][random.randint(6)]\n",
        "        seq_class[n] = minor_progs[prog][n%len(minor_progs[prog])]\n",
        "      minor_dataset[0].append(sequence)\n",
        "      minor_dataset[1].append(key_class)\n",
        "      minor_dataset[2].append(seq_class)\n",
        "dataset = [major_dataset,minor_dataset]"
      ],
      "metadata": {
        "id": "x8lZwTHilgpp"
      },
      "execution_count": 7,
      "outputs": []
    },
    {
      "cell_type": "code",
      "source": [
        "num_sequences = len(dataset[0][0]) + len(dataset[1][0])\n",
        "num_sequences"
      ],
      "metadata": {
        "colab": {
          "base_uri": "https://localhost:8080/"
        },
        "id": "lrtI76Fo7-0A",
        "outputId": "673378f1-6137-4e14-e1d3-e9b91a9437aa"
      },
      "execution_count": 8,
      "outputs": [
        {
          "output_type": "execute_result",
          "data": {
            "text/plain": [
              "147600"
            ]
          },
          "metadata": {},
          "execution_count": 8
        }
      ]
    },
    {
      "cell_type": "markdown",
      "source": [
        "randomly \"mute\" (mask) some notes in the input sequence so the model learns how to fill in the blanks. This is directly inspired by the BERT model"
      ],
      "metadata": {
        "id": "PyNdP7K5NkdI"
      }
    },
    {
      "cell_type": "code",
      "source": [
        "def mask(seq):\n",
        "  temp = seq[:]\n",
        "  for i in range(len(seq)):\n",
        "    if (random.randint(100)+1)/100.0 <= mask_input_prob:\n",
        "      temp[i] = mask_token\n",
        "  return temp"
      ],
      "metadata": {
        "id": "FRIGSnoSWXj7"
      },
      "execution_count": 9,
      "outputs": []
    },
    {
      "cell_type": "code",
      "source": [
        "inputs = []\n",
        "outputs = []\n",
        "for i in range(num_sequences):\n",
        "  color = random.randint(2)\n",
        "  if len(dataset[color][0]) == 0:\n",
        "    color = (color+1)%2\n",
        "  rand_sample_index = random.randint(len(dataset[color][0]))\n",
        "  input_seq = mask(dataset[color][0][rand_sample_index])\n",
        "  #output_seq = dataset[color][0][rand_sample_index]\n",
        "  output_key = dataset[color][1][rand_sample_index]\n",
        "  inputs.append(input_seq)\n",
        "  outputs.append(output_key)\n",
        "  dataset[color][0].pop(rand_sample_index)\n",
        "  dataset[color][1].pop(rand_sample_index)\n",
        "  dataset[color][2].pop(rand_sample_index)"
      ],
      "metadata": {
        "id": "nSEWWzrYFjLg"
      },
      "execution_count": 10,
      "outputs": []
    },
    {
      "cell_type": "markdown",
      "source": [
        "### convert inputs and outputs to tensors"
      ],
      "metadata": {
        "id": "SMC_aCw_Hheu"
      }
    },
    {
      "cell_type": "code",
      "source": [
        "inputs = tf.convert_to_tensor(inputs, dtype=tf.int32)\n",
        "outputs = tf.convert_to_tensor(outputs, dtype=tf.int32)"
      ],
      "metadata": {
        "id": "FdNdQomwHfor"
      },
      "execution_count": 11,
      "outputs": []
    },
    {
      "cell_type": "code",
      "source": [
        "print(tf.shape(inputs))\n",
        "print(tf.shape(outputs))"
      ],
      "metadata": {
        "colab": {
          "base_uri": "https://localhost:8080/"
        },
        "id": "PaTOLU0AmdE1",
        "outputId": "34ae0833-0b30-43b1-c6aa-95b07acce48a"
      },
      "execution_count": 12,
      "outputs": [
        {
          "output_type": "stream",
          "name": "stdout",
          "text": [
            "tf.Tensor([147600     72], shape=(2,), dtype=int32)\n",
            "tf.Tensor([147600], shape=(1,), dtype=int32)\n"
          ]
        }
      ]
    },
    {
      "cell_type": "code",
      "source": [
        "inputs[0]"
      ],
      "metadata": {
        "colab": {
          "base_uri": "https://localhost:8080/"
        },
        "id": "yYEbj_WhkSeX",
        "outputId": "211be513-6f98-4771-cd41-f2c474e8e4d4"
      },
      "execution_count": 13,
      "outputs": [
        {
          "output_type": "execute_result",
          "data": {
            "text/plain": [
              "<tf.Tensor: shape=(72,), dtype=int32, numpy=\n",
              "array([ 5,  3,  2,  2,  5,  5, 25, 15, 14, 12, 26, 12, 12, 14, 14, 12, 12,\n",
              "       12, 25, 25,  0,  2,  3,  2, 25, 12, 14, 14, 13, 12,  8, 26, 10,  9,\n",
              "        8,  8,  0,  2,  2,  0,  0,  0, 10, 26,  7,  7, 10, 10,  5,  3,  2,\n",
              "        2,  5,  5,  8,  7,  5,  5,  8,  8, 12, 10,  9,  9, 12, 12, 25,  5,\n",
              "        7,  7,  7,  5], dtype=int32)>"
            ]
          },
          "metadata": {},
          "execution_count": 13
        }
      ]
    },
    {
      "cell_type": "code",
      "source": [
        "outputs[0]"
      ],
      "metadata": {
        "colab": {
          "base_uri": "https://localhost:8080/"
        },
        "id": "tChABQDMmZ-5",
        "outputId": "19cce5e9-ffcc-44ff-fb81-83a3a1a3f9e2"
      },
      "execution_count": 14,
      "outputs": [
        {
          "output_type": "execute_result",
          "data": {
            "text/plain": [
              "<tf.Tensor: shape=(), dtype=int32, numpy=8>"
            ]
          },
          "metadata": {},
          "execution_count": 14
        }
      ]
    },
    {
      "cell_type": "markdown",
      "source": [
        "# Create the model"
      ],
      "metadata": {
        "id": "nZ7v-PnqsWv-"
      }
    },
    {
      "cell_type": "markdown",
      "source": [
        "### positional embed"
      ],
      "metadata": {
        "id": "VNWN8LpiSWg9"
      }
    },
    {
      "cell_type": "code",
      "source": [
        "def positional_encoding(length, depth):\n",
        "  depth = depth/2\n",
        "\n",
        "  positions = np.arange(length)[:, np.newaxis]     # (seq, 1)\n",
        "  depths = np.arange(depth)[np.newaxis, :]/depth   # (1, depth)\n",
        "\n",
        "  angle_rates = 1 / (10000**depths)         # (1, depth)\n",
        "  angle_rads = positions * angle_rates      # (pos, depth)\n",
        "\n",
        "  pos_encoding = np.concatenate([np.sin(angle_rads), np.cos(angle_rads)],axis=-1)\n",
        "\n",
        "  return tf.cast(pos_encoding, dtype=tf.float32)"
      ],
      "metadata": {
        "id": "TGCHEXJzSa4j"
      },
      "execution_count": 15,
      "outputs": []
    },
    {
      "cell_type": "code",
      "source": [
        "class PositionalEmbedding(tf.keras.layers.Layer):\n",
        "  def __init__(self, vocab_size=vocab_length, dim_model=D):\n",
        "    super().__init__()\n",
        "    self.dim_model = dim_model\n",
        "    self.embedding = tf.keras.layers.Embedding(input_dim=vocab_size, output_dim=dim_model, input_length=73, mask_zero=False)\n",
        "    self.pos_encoding = positional_encoding(length=128, depth=dim_model)\n",
        "\n",
        "  def call(self, x):\n",
        "    notes = tf.shape(x)[1]\n",
        "    batches = len(x)\n",
        "    keys = []\n",
        "    for i in range(batches): keys.append([key_token])\n",
        "    x = tf.concat([keys,x],1)\n",
        "    x = self.embedding(x)\n",
        "    # This factor sets the relative scale of the embedding and positonal_encoding.\n",
        "    x *= tf.math.sqrt(tf.cast(self.dim_model, tf.float32))\n",
        "    x = x + self.pos_encoding[tf.newaxis, :notes+1, :]\n",
        "    return x"
      ],
      "metadata": {
        "id": "MBP31y-fqnex"
      },
      "execution_count": 126,
      "outputs": []
    },
    {
      "cell_type": "markdown",
      "source": [
        "### attention"
      ],
      "metadata": {
        "id": "jTa1y9YAqWzq"
      }
    },
    {
      "cell_type": "code",
      "source": [
        "class BaseAttention(tf.keras.layers.Layer):\n",
        "  def __init__(self, **kwargs):\n",
        "    super().__init__()\n",
        "    self.mha = tf.keras.layers.MultiHeadAttention(**kwargs)\n",
        "    self.layernorm = tf.keras.layers.LayerNormalization()\n",
        "    self.add = tf.keras.layers.Add()"
      ],
      "metadata": {
        "id": "vpEOPbngXUnA"
      },
      "execution_count": 17,
      "outputs": []
    },
    {
      "cell_type": "code",
      "source": [
        "class GlobalSelfAttention(BaseAttention):\n",
        "  def call(self, x):\n",
        "    y = self.layernorm(x)\n",
        "    attn_output = self.mha(query=y, value=y, key=y)\n",
        "    x = self.add([x, attn_output])\n",
        "    return x"
      ],
      "metadata": {
        "id": "Y91G5CxRXBho"
      },
      "execution_count": 18,
      "outputs": []
    },
    {
      "cell_type": "markdown",
      "source": [
        "### (chord) encoder"
      ],
      "metadata": {
        "id": "TRMmHGBmgUJe"
      }
    },
    {
      "cell_type": "code",
      "source": [
        "class EncoderLayer(tf.keras.layers.Layer):\n",
        "  def __init__(self,*, dim_model=D, num_heads=H, dim_mlp=dff, dropout_rate=0.1):\n",
        "    super().__init__()\n",
        "    self.self_attention = GlobalSelfAttention(\n",
        "        num_heads=num_heads,\n",
        "        key_dim=dim_model,\n",
        "        dropout=dropout_rate)\n",
        "    self.mlp = EncoderMLP(dim_model, dim_mlp)\n",
        "\n",
        "  def call(self, x):\n",
        "    x = self.self_attention(x)\n",
        "    x = self.mlp(x)\n",
        "    return x"
      ],
      "metadata": {
        "id": "k0E6orHJX5Mp"
      },
      "execution_count": 19,
      "outputs": []
    },
    {
      "cell_type": "code",
      "source": [
        "class EncoderMLP(tf.keras.layers.Layer):\n",
        "  def __init__(self, dim_model=D, dim_mlp=dff, dropout_rate=0.1):\n",
        "    super().__init__()\n",
        "    self.seq = tf.keras.Sequential([\n",
        "      tf.keras.Input(shape=(N+1,dim_model)),\n",
        "      tf.keras.layers.Dense(dim_mlp, activation='relu'),\n",
        "      tf.keras.layers.Dropout(dropout_rate),\n",
        "      tf.keras.layers.Dense(dim_model, activation='relu'),\n",
        "      tf.keras.layers.Dropout(dropout_rate)\n",
        "    ])\n",
        "    self.add = tf.keras.layers.Add()\n",
        "    self.layer_norm = tf.keras.layers.LayerNormalization()\n",
        "\n",
        "  def call(self, x):\n",
        "    y = self.layer_norm(x)\n",
        "    x = self.add([x, self.seq(y)])\n",
        "    return x"
      ],
      "metadata": {
        "id": "YsBWOLGnqUXr"
      },
      "execution_count": 20,
      "outputs": []
    },
    {
      "cell_type": "markdown",
      "source": [
        "### windowed (note) encoders"
      ],
      "metadata": {
        "id": "s6PRVY4kz3Rj"
      }
    },
    {
      "cell_type": "code",
      "source": [
        "class WindowEncoder1(tf.keras.layers.Layer):\n",
        "  def __init__(self,*, layers=2):\n",
        "    super().__init__()\n",
        "    self.encoder = EncoderLayer()\n",
        "    self.layers = layers\n",
        "\n",
        "  def call(self, x):\n",
        "    for l in range(self.layers):\n",
        "      for i in range(int(N/2)):\n",
        "        w = x[i*12:i*12+12]\n",
        "        x[i*12:i*12+12] = self.encoder(w)\n",
        "      for i in range(int(N/2)):\n",
        "        if i == 0:\n",
        "          sw = x[-6:]+x[:6]\n",
        "          sw = self.encoder(sw)\n",
        "          x[-6:] = sw[:6]\n",
        "          x[:6] = sw[-6:]\n",
        "        else:\n",
        "          sw = x[(i-1)*12+6:(i-1)*12+18]\n",
        "          x[(i-1)*12+6:(i-1)*12+18] = self.encoder(sw)\n",
        "    return x"
      ],
      "metadata": {
        "id": "4I_APSIv4Gat"
      },
      "execution_count": 21,
      "outputs": []
    },
    {
      "cell_type": "code",
      "source": [
        "class WindowEncoder2(tf.keras.layers.Layer):\n",
        "  def __init__(self,*, layers=2):\n",
        "    super().__init__()\n",
        "    self.encoder = EncoderLayer()\n",
        "    self.layers = layers\n",
        "\n",
        "  def call(self, x):\n",
        "    for l in range(self.layers):\n",
        "      for s in range(2):\n",
        "        for i in range(N*2):\n",
        "          if (s == 0 and i%8 <=1) or (s == 1 and (i%8 == 4 or i%8 == 5)):\n",
        "            w = x[i*3-12:i*3-9] + x[i*3-6:i*3-3] + x[i*3:i*3+3] + x[i*3+6:i*3+9]\n",
        "            w = self.encoder(w)\n",
        "            x[i*3-12:i*3-9] = w[:3]\n",
        "            x[i*3-6:i*3-3] = w[3:6]\n",
        "            x[i*3:i*3+3] = w[6:9]\n",
        "            x[i*3+6:i*3+9] = w[9:12]\n",
        "    return x"
      ],
      "metadata": {
        "id": "TOqlbN4OdsYo"
      },
      "execution_count": 22,
      "outputs": []
    },
    {
      "cell_type": "code",
      "source": [
        "class WindowEncoder3(tf.keras.layers.Layer):\n",
        "  def __init__(self,*, layers=2):\n",
        "    super().__init__()\n",
        "    self.encoder = EncoderLayer()\n",
        "    self.layers = layers\n",
        "\n",
        "  def call(self, x):\n",
        "    for l in range(self.layers):\n",
        "      for s in range(2):\n",
        "        for i in range(N*3):\n",
        "          if (s == 0 and i%18 <= 2) or (s == 1 and i%18 >= 9  and i%18 <= 11):\n",
        "            w = x[i*2-18:i*2-16] + x[i*2-12:i*2-10] + x[i*2-6:i*2-4] + x[i*2:i*2+2] + x[i*2+6:i*2+8] + x[i*2+12:i*2+14]\n",
        "            w = self.encoder(w)\n",
        "            x[i*2-18:i*2-16] = w[:2]\n",
        "            x[i*2-12:i*2-10] = w[2:4]\n",
        "            x[i*2-6:i*2-4] = w[4:6]\n",
        "            x[i*2:i*2+2] = w[6:8]\n",
        "            x[i*2+6:i*2+8] = w[8:10]\n",
        "            x[i*2+12:i*2+14] = w[10:12]\n",
        "    return x"
      ],
      "metadata": {
        "id": "wk9lmd6lh1U3"
      },
      "execution_count": 23,
      "outputs": []
    },
    {
      "cell_type": "markdown",
      "source": [
        "### The transformer"
      ],
      "metadata": {
        "id": "MgVMZXH9IzbM"
      }
    },
    {
      "cell_type": "code",
      "source": [
        "class FretboardTransformer(tf.keras.Model):\n",
        "    def __init__(self, *, dim_model=D, seq_length=N, dim_mlp=dff, L1=2, L2=6, dropout_rate=0.1):\n",
        "        super().__init__()\n",
        "        self.dim_model = dim_model\n",
        "        self.embed = PositionalEmbedding()\n",
        "        self.pos_matrix = positional_encoding(length=128, depth=dim_model)\n",
        "        #self.swin_encoder1 = WindowEncoder1(layers=L1)\n",
        "        #self.swin_encoder2 = WindowEncoder2(layers=L1)\n",
        "        #self.swin_encoder3 = WindowEncoder3(layers=L1)\n",
        "        self.squish = tf.keras.Sequential([\n",
        "          tf.keras.Input(shape=(None,seq_length,6*dim_model)),\n",
        "          tf.keras.layers.Dense(dim_mlp, activation='relu'),\n",
        "          tf.keras.layers.Dropout(dropout_rate),\n",
        "          tf.keras.layers.Dense(dim_model, activation='relu'),\n",
        "          tf.keras.layers.Dropout(dropout_rate)\n",
        "        ])\n",
        "        self.encoder = EncoderLayer()\n",
        "        self.L2 = L2\n",
        "        self.mlp_head = tf.keras.Sequential([\n",
        "          tf.keras.Input(shape=(None, (N+1)*dim_model)),\n",
        "          tf.keras.layers.Dense(dim_mlp, activation='relu'),\n",
        "          tf.keras.layers.Dropout(dropout_rate),\n",
        "          tf.keras.layers.Dense(24, activation='relu'),\n",
        "          tf.keras.layers.Dropout(dropout_rate)\n",
        "        ])\n",
        "\n",
        "    def call(self, x): # x is (None, 6*N) where None refers to batch size\n",
        "        x = self.embed(x) # (None, 6*N + 1, dim_model)\n",
        "        keys = x[:,0] # (None, 1, dim_model)\n",
        "        x = x[:,1:] # (None, 6*N, dim_model)\n",
        "\n",
        "        # these windowed encoders are meant to teach the model relationships between strings\n",
        "        #x = self.swin_encoder1(x)\n",
        "        #x = self.swin_encoder2(x)\n",
        "        #x = self.swin_encoder3(x)\n",
        "\n",
        "        # we have dim_model features for each of the 6 notes for each of the N chords in the sequence. Let's reduce that down to dim_model features for each chord\n",
        "        x_consolidated = []\n",
        "        for b in range(len(x)):\n",
        "          temp = []\n",
        "          for i in range(N):\n",
        "            y = tf.concat([x[b,i*6],x[b,i*6+1],x[b,i*6+2],x[b,i*6+3],x[b,i*6+4],x[b,i*6+5]],0)\n",
        "            temp.append(y)\n",
        "          x_consolidated.append(self.squish(tf.stack(temp)))\n",
        "        x_consolidated = tf.stack(x_consolidated)\n",
        "\n",
        "        x = tf.concat([tf.expand_dims(keys,1),x_consolidated],1) # append the key embedding. x is (None, N+1, dim_model)\n",
        "\n",
        "        # this encoder is meant to teach the model relationships between chords\n",
        "        for i in range(self.L2): x = self.encoder(x)\n",
        "\n",
        "        flatten = tf.keras.layers.Flatten()\n",
        "        x = flatten(x[:]) # (None, (N+1)*dim_model)\n",
        "        pred = self.mlp_head(x) # (None, 24)\n",
        "\n",
        "        pred = tf.nn.softmax(pred)\n",
        "\n",
        "        return pred"
      ],
      "metadata": {
        "id": "eRfUQmrPsZ6g"
      },
      "execution_count": 128,
      "outputs": []
    },
    {
      "cell_type": "markdown",
      "source": [
        "### init"
      ],
      "metadata": {
        "id": "S0OwgSL7kp9T"
      }
    },
    {
      "cell_type": "code",
      "source": [
        "transformer = FretboardTransformer()"
      ],
      "metadata": {
        "id": "C_WbauMfNRFP"
      },
      "execution_count": 129,
      "outputs": []
    },
    {
      "cell_type": "code",
      "source": [
        "transformer(inputs[0:1])"
      ],
      "metadata": {
        "colab": {
          "base_uri": "https://localhost:8080/"
        },
        "id": "2uTITKe52TYF",
        "outputId": "05ed2f4e-ef14-4c95-d577-8153af2d0084"
      },
      "execution_count": 130,
      "outputs": [
        {
          "output_type": "execute_result",
          "data": {
            "text/plain": [
              "<tf.Tensor: shape=(1, 24), dtype=float32, numpy=\n",
              "array([[0.01580004, 0.01580004, 0.08945438, 0.1789208 , 0.01580004,\n",
              "        0.01580004, 0.10815397, 0.01580004, 0.0790519 , 0.01580004,\n",
              "        0.01580004, 0.02947439, 0.03521137, 0.01766569, 0.01580004,\n",
              "        0.01580004, 0.01580004, 0.02140314, 0.11764576, 0.07324442,\n",
              "        0.03591537, 0.01580004, 0.02425835, 0.01580004]], dtype=float32)>"
            ]
          },
          "metadata": {},
          "execution_count": 130
        }
      ]
    },
    {
      "cell_type": "code",
      "source": [
        "transformer.summary()"
      ],
      "metadata": {
        "colab": {
          "base_uri": "https://localhost:8080/"
        },
        "id": "oo-O9PkZmotY",
        "outputId": "1dfa8693-856c-48ff-cb91-dd963e89d763"
      },
      "execution_count": 87,
      "outputs": [
        {
          "output_type": "stream",
          "name": "stdout",
          "text": [
            "Model: \"fretboard_transformer_8\"\n",
            "_________________________________________________________________\n",
            " Layer (type)                Output Shape              Param #   \n",
            "=================================================================\n",
            " positional_embedding_7 (Po  multiple                  2880      \n",
            " sitionalEmbedding)                                              \n",
            "                                                                 \n",
            " sequential_21 (Sequential)  (None, None, 12, 96)      258528    \n",
            "                                                                 \n",
            " encoder_layer_7 (EncoderLa  multiple                  371904    \n",
            " yer)                                                            \n",
            "                                                                 \n",
            " sequential_23 (Sequential)  (None, None, 24)          488856    \n",
            "                                                                 \n",
            "=================================================================\n",
            "Total params: 1122168 (4.28 MB)\n",
            "Trainable params: 1122168 (4.28 MB)\n",
            "Non-trainable params: 0 (0.00 Byte)\n",
            "_________________________________________________________________\n"
          ]
        }
      ]
    },
    {
      "cell_type": "markdown",
      "source": [
        "# Train the model"
      ],
      "metadata": {
        "id": "2Ks9uXjrzfPw"
      }
    },
    {
      "cell_type": "markdown",
      "source": [
        "### optimizer"
      ],
      "metadata": {
        "id": "4hOpzgxtSNME"
      }
    },
    {
      "cell_type": "code",
      "source": [
        "class CustomSchedule(tf.keras.optimizers.schedules.LearningRateSchedule):\n",
        "  def __init__(self, dim_model=D, warmup_steps=4000):\n",
        "    super().__init__()\n",
        "\n",
        "    self.dim_model = dim_model\n",
        "    self.dim_model = tf.cast(self.dim_model, tf.float32)\n",
        "\n",
        "    self.warmup_steps = warmup_steps\n",
        "\n",
        "  def __call__(self, step):\n",
        "    step = tf.cast(step, dtype=tf.float32)\n",
        "    arg1 = tf.math.rsqrt(step)\n",
        "    arg2 = step * (self.warmup_steps ** -1.5)\n",
        "\n",
        "    return tf.math.rsqrt(self.dim_model) * tf.math.minimum(arg1, arg2)"
      ],
      "metadata": {
        "id": "4Dk15vppNrZY"
      },
      "execution_count": 47,
      "outputs": []
    },
    {
      "cell_type": "code",
      "source": [
        "learning_rate = CustomSchedule(dim_model=D)\n",
        "\n",
        "optimizer = tf.keras.optimizers.legacy.Adam(learning_rate, beta_1=0.9, beta_2=0.98, epsilon=1e-9)\n",
        "\n",
        "plt.plot(learning_rate(tf.range(40000, dtype=tf.float32)))\n",
        "plt.ylabel('Learning Rate')\n",
        "plt.xlabel('Train Step')"
      ],
      "metadata": {
        "id": "zIZNR1ikNsxx",
        "colab": {
          "base_uri": "https://localhost:8080/",
          "height": 467
        },
        "outputId": "1a710218-9da9-4a2e-ab6c-df9247bee67f"
      },
      "execution_count": 48,
      "outputs": [
        {
          "output_type": "execute_result",
          "data": {
            "text/plain": [
              "Text(0.5, 0, 'Train Step')"
            ]
          },
          "metadata": {},
          "execution_count": 48
        },
        {
          "output_type": "display_data",
          "data": {
            "text/plain": [
              "<Figure size 640x480 with 1 Axes>"
            ],
            "image/png": "[encoded data removed]"
          },
          "metadata": {}
        }
      ]
    },
    {
      "cell_type": "markdown",
      "source": [
        "### make batches"
      ],
      "metadata": {
        "id": "PQR2QaKai0IV"
      }
    },
    {
      "cell_type": "code",
      "source": [
        "len(inputs)"
      ],
      "metadata": {
        "colab": {
          "base_uri": "https://localhost:8080/"
        },
        "id": "LaXa2hI7MK90",
        "outputId": "3328ecfd-5cef-4af2-b490-db63235ec1c4"
      },
      "execution_count": 49,
      "outputs": [
        {
          "output_type": "execute_result",
          "data": {
            "text/plain": [
              "147600"
            ]
          },
          "metadata": {},
          "execution_count": 49
        }
      ]
    },
    {
      "cell_type": "code",
      "source": [
        "train_len = 132800\n",
        "val_len = 14784\n",
        "train_inputs = inputs[:train_len]\n",
        "train_outputs = outputs[:train_len]\n",
        "train_outputs = tf.reshape(train_outputs,-1)\n",
        "val_inputs = inputs[train_len:train_len+val_len]\n",
        "val_outputs = outputs[train_len:train_len+val_len]\n",
        "val_outputs = tf.reshape(val_outputs,-1)"
      ],
      "metadata": {
        "id": "V99rH7T3SU6K"
      },
      "execution_count": 50,
      "outputs": []
    },
    {
      "cell_type": "markdown",
      "source": [
        "### loss and accuracy functions"
      ],
      "metadata": {
        "id": "7NfNAhh6B81X"
      }
    },
    {
      "cell_type": "code",
      "source": [
        "def loss(truths, preds):\n",
        "  loss_object = tf.keras.losses.SparseCategoricalCrossentropy(from_logits=False, reduction='none')\n",
        "  loss = loss_object(truths, preds)\n",
        "  loss = tf.reduce_sum(loss)/N\n",
        "  return loss\n",
        "\n",
        "def key_accuracy(truths, preds):\n",
        "  k_preds = tf.math.argmax(preds,1)\n",
        "  match = truths == preds\n",
        "  match = tf.cast(match, dtype=tf.int32)\n",
        "  return tf.reduce_sum(match)/tf.size(match)"
      ],
      "metadata": {
        "id": "uljLpxXDPpxx"
      },
      "execution_count": 144,
      "outputs": []
    },
    {
      "cell_type": "markdown",
      "source": [
        "### compile and train"
      ],
      "metadata": {
        "id": "c9SFcSvDSQx-"
      }
    },
    {
      "cell_type": "code",
      "source": [
        "transformer.compile(\n",
        "    loss = loss,\n",
        "    optimizer = optimizer,\n",
        "    metrics = [key_accuracy])"
      ],
      "metadata": {
        "id": "p94wULpeQazH"
      },
      "execution_count": 146,
      "outputs": []
    },
    {
      "cell_type": "code",
      "source": [
        "transformer.fit(train_inputs, train_outputs,\n",
        "                epochs = 5,\n",
        "                validation_data = (val_inputs, val_outputs))"
      ],
      "metadata": {
        "id": "4GNhGe36Qfgd",
        "colab": {
          "base_uri": "https://localhost:8080/"
        },
        "outputId": "c0bd99e5-086e-461e-ce16-3ca5ab6f4ec4"
      },
      "execution_count": 147,
      "outputs": [
        {
          "output_type": "stream",
          "name": "stdout",
          "text": [
            "Epoch 1/5\n",
            "4150/4150 [==============================] - 436s 93ms/step - loss: 8.4789 - key_accuracy: 0.0000e+00 - val_loss: 8.4748 - val_key_accuracy: 0.0000e+00\n",
            "Epoch 2/5\n",
            "4150/4150 [==============================] - 372s 90ms/step - loss: 8.4748 - key_accuracy: 0.0000e+00 - val_loss: 8.4748 - val_key_accuracy: 0.0000e+00\n",
            "Epoch 3/5\n",
            "4150/4150 [==============================] - 365s 88ms/step - loss: 8.4748 - key_accuracy: 0.0000e+00 - val_loss: 8.4748 - val_key_accuracy: 0.0000e+00\n",
            "Epoch 4/5\n",
            "4150/4150 [==============================] - 372s 90ms/step - loss: 8.4759 - key_accuracy: 0.0000e+00 - val_loss: 8.4748 - val_key_accuracy: 0.0000e+00\n",
            "Epoch 5/5\n",
            "4150/4150 [==============================] - 372s 90ms/step - loss: 8.4748 - key_accuracy: 0.0000e+00 - val_loss: 8.4748 - val_key_accuracy: 0.0000e+00\n"
          ]
        },
        {
          "output_type": "execute_result",
          "data": {
            "text/plain": [
              "<keras.src.callbacks.History at 0x79bc5e53dab0>"
            ]
          },
          "metadata": {},
          "execution_count": 147
        }
      ]
    }
  ]
}