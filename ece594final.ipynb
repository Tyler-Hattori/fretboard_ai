{
  "nbformat": 4,
  "nbformat_minor": 0,
  "metadata": {
    "colab": {
      "provenance": [],
      "collapsed_sections": [
        "qJk-zUBwzWRj",
        "EsDm1wANzlZy",
        "GtUHPBC3yJ-p",
        "31K6VjihlC-d"
      ]
    },
    "kernelspec": {
      "name": "python3",
      "display_name": "Python 3"
    },
    "language_info": {
      "name": "python"
    }
  },
  "cells": [
    {
      "cell_type": "markdown",
      "source": [
        "# Create dataset"
      ],
      "metadata": {
        "id": "qJk-zUBwzWRj"
      }
    },
    {
      "cell_type": "markdown",
      "source": [
        "### import"
      ],
      "metadata": {
        "id": "EsDm1wANzlZy"
      }
    },
    {
      "cell_type": "code",
      "execution_count": 1,
      "metadata": {
        "id": "k0-USx1LzN5l"
      },
      "outputs": [],
      "source": [
        "import numpy as np\n",
        "from numpy import random"
      ]
    },
    {
      "cell_type": "markdown",
      "source": [
        "### define chord shapes and progressions"
      ],
      "metadata": {
        "id": "GtUHPBC3yJ-p"
      }
    },
    {
      "cell_type": "code",
      "source": [
        "def next_key(chords):\n",
        "  next = np.zeros([7,6,6],int)\n",
        "  for i in range(len(next)):\n",
        "    for j in range(len(next[i])):\n",
        "      voicing = chords[i][j][:]\n",
        "      for k in range(len(voicing)):\n",
        "        if voicing[k] != -1:\n",
        "          next[i][j][k] = voicing[k]+1\n",
        "        else:\n",
        "          next[i][j][k] = voicing[k]\n",
        "\n",
        "  for i in range(len(next)):\n",
        "    voicing = next[i][4]\n",
        "    cycle = 1\n",
        "    for k in range(len(voicing)):\n",
        "      if voicing[k] < 12 and voicing[k] != -1:\n",
        "        cycle = 0\n",
        "    if cycle == 1:\n",
        "      new = np.array([[voicing[0]-12 if voicing[0] != -1 else -1,\n",
        "             voicing[1]-12 if voicing[1] != -1 else -1,\n",
        "             voicing[2]-12 if voicing[2] != -1 else -1,\n",
        "             voicing[3]-12 if voicing[3] != -1 else -1,\n",
        "             voicing[4]-12 if voicing[4] != -1 else -1,\n",
        "             voicing[5]-12 if voicing[5] != -1 else -1]])\n",
        "      temp = np.concatenate((new,next[i]))\n",
        "      next[i] = temp[:6,:]\n",
        "      cycle = 0\n",
        "\n",
        "  return next"
      ],
      "metadata": {
        "id": "ZCP0369PBnLF"
      },
      "execution_count": 6,
      "outputs": []
    },
    {
      "cell_type": "markdown",
      "source": [
        "define chords in keys"
      ],
      "metadata": {
        "id": "m9xSAPILkVxi"
      }
    },
    {
      "cell_type": "code",
      "source": [
        "c = [[[-1,3,2,0,1,0],[-1,3,5,5,5,3],[8,7,5,5,8,8],[8,10,10,9,8,8],[-1,-1,10,12,13,12],[-1,15,14,12,13,12]], # 1\n",
        "     [[-1,-1,0,2,3,1],[-1,5,3,2,3,-1],[-1,5,7,7,6,5],[10,8,7,7,10,10],[10,12,12,10,10,10],[-1,-1,12,14,15,13]], # 2\n",
        "     [[0,2,2,0,0,0],[-1,-1,2,4,5,3],[-1,7,5,4,3,-1],[-1,7,9,9,8,7],[12,10,9,9,12,12],[12,14,14,12,12,12]], # 3\n",
        "     [[1,3,3,2,1,1],[-1,-1,3,5,6,5],[-1,8,7,5,6,5],[-1,8,10,10,10,8],[13,12,10,10,13,13],[13,15,15,14,13,13]], # 4\n",
        "     [[3,2,0,0,3,3],[3,5,5,4,3,3],[-1,-1,5,7,8,7],[-1,10,9,7,8,7],[-1,10,12,12,12,10],[15,14,12,12,15,15]], # 5\n",
        "     [[-1,0,2,2,1,0],[5,3,2,2,5,5],[5,7,7,5,5,5],[-1,-1,7,9,10,8],[-1,12,10,9,10,-1],[-1,12,14,14,13,12]], # 6\n",
        "     [[-1,2,3,4,3,-1],[-1,2,3,4,3,-1],[-1,2,3,4,3,-1],[-1,2,3,4,3,-1],[-1,2,3,4,3,-1],[-1,2,3,4,3,-1]]] # 7\n",
        "csharp = next_key(c)\n",
        "d = next_key(csharp)\n",
        "dsharp = next_key(d)\n",
        "e = next_key(dsharp)\n",
        "f = next_key(e)\n",
        "fsharp = next_key(f)\n",
        "g = next_key(fsharp)\n",
        "gsharp = next_key(g)\n",
        "a = next_key(gsharp)\n",
        "asharp = next_key(a)\n",
        "b = next_key(asharp)\n",
        "keys = [c,csharp,d,dsharp,e,f,fsharp,g,gsharp,a,asharp,b]"
      ],
      "metadata": {
        "id": "JmWC1BO51J25"
      },
      "execution_count": 17,
      "outputs": []
    },
    {
      "cell_type": "markdown",
      "source": [
        "define progressions"
      ],
      "metadata": {
        "id": "ktE5XCJhkmAR"
      }
    },
    {
      "cell_type": "code",
      "source": [
        "major_progs = [[1,1,4,3],[1,3,4,6],[1,3,6,4],[1,4,2,5],[1,4,5,4],[1,4,5,5],[1,4,6,5],[1,4,7,3,6,2,5,1],[1,5,1,4],[1,5,4,6],\n",
        "                  [1,5,6,2],[1,5,6,3,4,1,4,5],[1,5,6,3,4],[1,5,6,4],[1,5,6,5],[1,6,1,4],[1,6,2,4],[1,6,2,5],[1,6,4,3],\n",
        "                  [1,6,4,5],[2,4,5,5],[2,4,6,5],[2,5,1,1],[2,5,1,4],[3,6,4,1],[4,1,2,6],[4,1,3,4],[4,1,5,6],[4,4,1,5],\n",
        "                  [4,6,1,5],[4,6,3,1],[4,6,4,6],[5,1,6,5],[5,4,6,1],[5,6,4,1],[6,2,5,1],[6,4,1,5],[6,5,4,5,2,5,1,1],[6,5,4,5]]\n",
        "minor_progs = [[6,7,3,6],[6,1,2,4],[6,1,5,4],[6,2,1,4],[6,2,3,2],[6,2,3,3],[6,2,4,3],[6,2,5,6],[6,2,5,3,6,6,7,3],\n",
        "                        [6,3,2,5],[6,4,1,5],[6,4,2,7],[6,4,2,1],[6,4,2,3],[6,4,5,3],[6,4,5,5],[6,5,6,3,1,5,6,3,6],[6,5,6,3],\n",
        "                        [6,5,3,4],[6,5,4,1,2,4,5,6],[6,5,4,1],[6,5,4,5],[7,3,6,6],[7,3,6,2],[7,4,6,2],[2,6,3,4],[2,1,5,6],\n",
        "                        [2,3,4,5],[2,4,3,5],[2,4,5,6],[3,6,2,5],[3,2,6,6],[3,4,1,6],[3,4,3,6],[4,6,3,1],[4,6,3,3],[4,1,6,3],\n",
        "                        [4,2,6,3],[4,4,6,5],[4,5,6,1],[4,5,3,1],[5,2,3,6],[5,2,5,6]]"
      ],
      "metadata": {
        "id": "dkkzMN7nklrV"
      },
      "execution_count": 18,
      "outputs": []
    },
    {
      "cell_type": "code",
      "source": [
        "def init_sequence():\n",
        "  return [[-1,-1,-1,-1,-1,-1],[-1,-1,-1,-1,-1,-1],[-1,-1,-1,-1,-1,-1],[-1,-1,-1,-1,-1,-1],\n",
        "          [-1,-1,-1,-1,-1,-1],[-1,-1,-1,-1,-1,-1],[-1,-1,-1,-1,-1,-1],[-1,-1,-1,-1,-1,-1],\n",
        "          [-1,-1,-1,-1,-1,-1],[-1,-1,-1,-1,-1,-1],[-1,-1,-1,-1,-1,-1],[-1,-1,-1,-1,-1,-1]]\n",
        "def init_truth():\n",
        "  return [[0,0,0,0,0,0,0,0,0,0,0,0,0,0,0,0,0,0,0,0,0,0,0,0],[0,0,0,0,0,0,0,0,0,0,0,0,]]"
      ],
      "metadata": {
        "id": "aEHEkyuZyBJr"
      },
      "execution_count": 35,
      "outputs": []
    },
    {
      "cell_type": "code",
      "source": [
        "12*(150*len(major_progs) + 150*len(minor_progs))"
      ],
      "metadata": {
        "colab": {
          "base_uri": "https://localhost:8080/"
        },
        "id": "rT3GWfNM4O-v",
        "outputId": "3c0bff3e-6fee-4f7b-9cdd-08c50e50c3a9"
      },
      "execution_count": 60,
      "outputs": [
        {
          "output_type": "execute_result",
          "data": {
            "text/plain": [
              "147600"
            ]
          },
          "metadata": {},
          "execution_count": 60
        }
      ]
    },
    {
      "cell_type": "markdown",
      "source": [
        "### create sequence/truth pairs"
      ],
      "metadata": {
        "id": "31K6VjihlC-d"
      }
    },
    {
      "cell_type": "code",
      "source": [
        "N = 12 # sequence length\n",
        "prog_iterations = 150\n",
        "major_dataset = [[],[]]\n",
        "minor_dataset = [[],[]]\n",
        "for key in range(len(keys)):\n",
        "  for prog in range(len(major_progs)):\n",
        "    for iteration in range(prog_iterations):\n",
        "      sequence = init_sequence()\n",
        "      truth = init_truth()\n",
        "      truth[0][key] = 1\n",
        "      for n in range(N):\n",
        "        sequence[n] = keys[key][major_progs[prog][n%len(major_progs[prog])]-1][random.randint(6)]\n",
        "        truth[1][n] = major_progs[prog][n%len(major_progs[prog])]\n",
        "      major_dataset[0].append(sequence)\n",
        "      major_dataset[1].append(truth)\n",
        "  for prog in range(len(minor_progs)):\n",
        "    for iteration in range(prog_iterations):\n",
        "      sequence = init_sequence()\n",
        "      truth = init_truth()\n",
        "      truth[0][key] = 1\n",
        "      for n in range(N):\n",
        "        sequence[n] = keys[key][minor_progs[prog][n%len(minor_progs[prog])]-1][random.randint(6)]\n",
        "        truth[1][n] = minor_progs[prog][n%len(minor_progs[prog])]\n",
        "      minor_dataset[0].append(sequence)\n",
        "      minor_dataset[1].append(truth)\n",
        "dataset = [major_dataset,minor_dataset]"
      ],
      "metadata": {
        "id": "x8lZwTHilgpp"
      },
      "execution_count": 71,
      "outputs": []
    },
    {
      "cell_type": "code",
      "source": [
        "len(dataset[0][0]) + len(dataset[1][0]) # number of sequences in the dataset"
      ],
      "metadata": {
        "colab": {
          "base_uri": "https://localhost:8080/"
        },
        "id": "lrtI76Fo7-0A",
        "outputId": "2cb84cd2-70d2-40c1-8a30-d41e4a5d49ea"
      },
      "execution_count": 76,
      "outputs": [
        {
          "output_type": "execute_result",
          "data": {
            "text/plain": [
              "147600"
            ]
          },
          "metadata": {},
          "execution_count": 76
        }
      ]
    },
    {
      "cell_type": "markdown",
      "source": [
        "# Create the model"
      ],
      "metadata": {
        "id": "nZ7v-PnqsWv-"
      }
    },
    {
      "cell_type": "code",
      "source": [],
      "metadata": {
        "id": "eRfUQmrPsZ6g"
      },
      "execution_count": null,
      "outputs": []
    },
    {
      "cell_type": "markdown",
      "source": [
        "# Train the model"
      ],
      "metadata": {
        "id": "2Ks9uXjrzfPw"
      }
    },
    {
      "cell_type": "markdown",
      "source": [
        "# Test the model"
      ],
      "metadata": {
        "id": "fY6MBxY-8ia7"
      }
    },
    {
      "cell_type": "markdown",
      "source": [
        "# Example implementation"
      ],
      "metadata": {
        "id": "9n6tWSPF8mpe"
      }
    }
  ]
}