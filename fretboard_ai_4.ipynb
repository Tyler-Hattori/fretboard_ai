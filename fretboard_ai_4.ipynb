{
  "nbformat": 4,
  "nbformat_minor": 0,
  "metadata": {
    "colab": {
      "provenance": [],
      "collapsed_sections": [
        "EsDm1wANzlZy",
        "IPW12wcdf1Nx",
        "-pSsrRBVL3bn",
        "GtUHPBC3yJ-p",
        "nZ7v-PnqsWv-",
        "2Ks9uXjrzfPw",
        "nKFszqFPFd89",
        "veoRrdlMHvDR",
        "GiZumJc-FDtk",
        "aUlT0IskJU4s",
        "9EnkGZRFOyC8",
        "eYu9DLZVbizi",
        "Bgf9D4iSNYmu",
        "0p0JrgsYYp_j"
      ],
      "gpuType": "T4",
      "include_colab_link": true
    },
    "kernelspec": {
      "name": "python3",
      "display_name": "Python 3"
    },
    "language_info": {
      "name": "python"
    },
    "accelerator": "GPU"
  },
  "cells": [
    {
      "cell_type": "markdown",
      "metadata": {
        "id": "view-in-github",
        "colab_type": "text"
      },
      "source": [
        "<a href=\"https://colab.research.google.com/github/Tyler-Hattori/fretboard_ai/blob/fourth/fretboard_ai_4.ipynb\" target=\"_parent\"><img src=\"https://colab.research.google.com/assets/colab-badge.svg\" alt=\"Open In Colab\"/></a>"
      ]
    },
    {
      "cell_type": "markdown",
      "source": [
        "### import"
      ],
      "metadata": {
        "id": "EsDm1wANzlZy"
      }
    },
    {
      "cell_type": "code",
      "execution_count": 53,
      "metadata": {
        "id": "k0-USx1LzN5l",
        "colab": {
          "base_uri": "https://localhost:8080/"
        },
        "outputId": "cc878cf1-f188-4b80-e7e9-1e4999ca757b"
      },
      "outputs": [
        {
          "output_type": "stream",
          "name": "stdout",
          "text": [
            "Drive already mounted at /content/drive; to attempt to forcibly remount, call drive.mount(\"/content/drive\", force_remount=True).\n"
          ]
        }
      ],
      "source": [
        "import numpy as np\n",
        "from numpy import random\n",
        "from numpy.linalg import inv\n",
        "from IPython.display import Audio, display\n",
        "from scipy.io.wavfile import read\n",
        "import matplotlib.pyplot as plt\n",
        "import torch\n",
        "from torch import nn\n",
        "import tensorflow as tf\n",
        "import math\n",
        "import matplotlib.pyplot as plt\n",
        "from tensorflow import keras\n",
        "from keras.layers import MultiHeadAttention, LayerNormalization, Layer, Dense, Dropout, Flatten, Embedding, Add\n",
        "import os\n",
        "from google.colab import files\n",
        "from google.colab import drive\n",
        "drive.mount('/content/drive')"
      ]
    },
    {
      "cell_type": "code",
      "source": [
        "drive_path = '/content/drive/My Drive/Colab/'\n",
        "num_tones = 48\n",
        "Fs = 44100\n",
        "dur = 1 # second\n",
        "num_samples = Fs * dur\n",
        "batch_size = 32\n",
        "scale = ['E','F','F#','G','G#','A','A#','B','C','C#','D','D#']\n",
        "tones = [scale[np.mod(i,len(scale))] for i in range(num_tones)]"
      ],
      "metadata": {
        "id": "XwjLf7asgTMv"
      },
      "execution_count": 71,
      "outputs": []
    },
    {
      "cell_type": "markdown",
      "source": [
        "### seq2key model"
      ],
      "metadata": {
        "id": "nZ7v-PnqsWv-"
      }
    },
    {
      "cell_type": "code",
      "source": [
        "N = 4\n",
        "D = 512\n",
        "H = 8\n",
        "L = 6\n",
        "dff = D*4\n",
        "batch_size = 32\n",
        "s2k_epochs = 20\n",
        "s2k_vocab_length = 150\n",
        "s2k_output_dim = 12\n",
        "dropout_rate = 0.1\n",
        "\n",
        "def positional_encoding(length, depth):\n",
        "  depth = depth/2\n",
        "\n",
        "  positions = np.arange(length)[:, np.newaxis]     # (seq, 1)\n",
        "  depths = np.arange(depth)[np.newaxis, :]/depth   # (1, depth)\n",
        "\n",
        "  angle_rates = 1 / (10000**depths)         # (1, depth)\n",
        "  angle_rads = positions * angle_rates      # (pos, depth)\n",
        "\n",
        "  pos_encoding = np.concatenate([np.sin(angle_rads), np.cos(angle_rads)], axis=-1)\n",
        "\n",
        "  return tf.cast(pos_encoding, dtype=tf.float32)\n",
        "\n",
        "class S2KPositionalEmbedding(Layer):\n",
        "  def __init__(self, vocab_size=s2k_vocab_length, dim_model=D):\n",
        "    super().__init__()\n",
        "    self.d_model = dim_model\n",
        "    self.embedding = Embedding(input_dim=vocab_size, output_dim=dim_model, mask_zero=True)\n",
        "    self.pos_encoding = positional_encoding(length=2048, depth=dim_model)\n",
        "\n",
        "  def call(self, x):\n",
        "    chords = tf.shape(x)[1]\n",
        "    x = self.embedding(x)\n",
        "    # This factor sets the relative scale of the embedding and positonal_encoding.\n",
        "    x *= tf.math.sqrt(tf.cast(self.d_model, tf.float32))\n",
        "    x = x + self.pos_encoding[tf.newaxis, :chords, :]\n",
        "    return x\n",
        "\n",
        "class S2KBaseAttention(Layer):\n",
        "  def __init__(self, **kwargs):\n",
        "    super().__init__()\n",
        "    self.mha = MultiHeadAttention(**kwargs)\n",
        "    self.layernorm = LayerNormalization()\n",
        "    self.add = Add()\n",
        "\n",
        "class S2KGlobalSelfAttention(S2KBaseAttention):\n",
        "  def call(self, x):\n",
        "    attn_output = self.mha(query=x, value=x, key=x)\n",
        "    x = self.add([x, attn_output])\n",
        "    return self.layernorm(x)\n",
        "\n",
        "class S2KFeedForward(Layer):\n",
        "  def __init__(self, dim_model=D, dim_mlp=dff, dropout_rate=dropout_rate):\n",
        "    super().__init__()\n",
        "    self.seq = tf.keras.Sequential([\n",
        "      Dense(dim_mlp, activation='relu'),\n",
        "      Dense(dim_model),\n",
        "      Dropout(dropout_rate)\n",
        "    ])\n",
        "    self.add = Add()\n",
        "    self.layer_norm = LayerNormalization()\n",
        "\n",
        "  def call(self, x):\n",
        "    x = self.add([x, self.seq(x)])\n",
        "    return self.layer_norm(x)\n",
        "\n",
        "class S2KEncoder(Layer):\n",
        "  def __init__(self,*, dim_model=D, num_heads=H, dim_mlp=dff, dropout_rate=dropout_rate):\n",
        "    super().__init__()\n",
        "    self.self_attention = S2KGlobalSelfAttention(\n",
        "        num_heads=num_heads,\n",
        "        key_dim=dim_model,\n",
        "        dropout=dropout_rate)\n",
        "    self.mlp = S2KFeedForward(dim_model=dim_model, dim_mlp=dim_mlp)\n",
        "\n",
        "  def call(self, x):\n",
        "    x = self.self_attention(x)\n",
        "    x = self.mlp(x)\n",
        "    return x\n",
        "\n",
        "class Seq2Key(tf.keras.Model):\n",
        "    def __init__(self, *, output_dim=s2k_output_dim, dim_model=D, seq_length=N, dim_mlp=dff, L=L, dropout_rate=dropout_rate):\n",
        "        super().__init__()\n",
        "        self.dim_model = dim_model\n",
        "        self.L = L\n",
        "\n",
        "        self.embed = S2KPositionalEmbedding()\n",
        "        self.encoder_layers = [S2KEncoder() for _ in range(L)]\n",
        "        self.dropout = Dropout(dropout_rate)\n",
        "\n",
        "        self.mlp_head = tf.keras.Sequential([\n",
        "          Dense(dim_mlp, activation='relu'),\n",
        "          Dense(output_dim)\n",
        "        ])\n",
        "\n",
        "    def call(self, x): # x is (None, 6*N) where None refers to batch size\n",
        "        x = self.embed(x) # (None, N, dim_model)\n",
        "        x = self.dropout(x)\n",
        "        for i in range(self.L): x = self.encoder_layers[i](x)\n",
        "\n",
        "        flatten = Flatten()\n",
        "        x = flatten(x) # (None, N*dim_model)\n",
        "        pred = self.mlp_head(x) # (None, 12)\n",
        "\n",
        "        pred = tf.nn.softmax(pred)\n",
        "\n",
        "        return pred\n",
        "\n",
        "# initialize seq2key object\n",
        "s2k = Seq2Key()\n",
        "s2k.load_weights(drive_path + 'seq2key')"
      ],
      "metadata": {
        "id": "TGCHEXJzSa4j",
        "colab": {
          "base_uri": "https://localhost:8080/"
        },
        "outputId": "e4e520fa-549f-4ba3-c222-3eee753c4153"
      },
      "execution_count": 12,
      "outputs": [
        {
          "output_type": "execute_result",
          "data": {
            "text/plain": [
              "<tensorflow.python.checkpoint.checkpoint.CheckpointLoadStatus at 0x7cf65c6bf7f0>"
            ]
          },
          "metadata": {},
          "execution_count": 12
        }
      ]
    },
    {
      "cell_type": "markdown",
      "source": [
        "### tab2chord model"
      ],
      "metadata": {
        "id": "9EnkGZRFOyC8"
      }
    },
    {
      "cell_type": "code",
      "source": [
        "N = 6 # guitar tab input\n",
        "D = 512\n",
        "H = 8\n",
        "L = 6\n",
        "dff = D*4\n",
        "batch_size = 32\n",
        "t2c_vocab_length = 25\n",
        "t2c_output_dim = 15 # csf output\n",
        "mute_string_prob = 0.05\n",
        "dropout_rate = 0.1\n",
        "mute_token = 0\n",
        "\n",
        "def chord2tab(chord,mute_prob=mute_string_prob):\n",
        "  m = mute_token\n",
        "  tab = [m for i in range(6)]\n",
        "  color = chord[0]\n",
        "  shape = chord[1]\n",
        "  fret = chord[2]\n",
        "\n",
        "  if color == 0: # major chords\n",
        "    if shape == 0: tab = [m,4,3,1,2,1]\n",
        "    elif shape == 1: tab = [m,1,3,3,3,1]\n",
        "    elif shape == 2: tab = [4,3,1,1,4,4]\n",
        "    elif shape == 3: tab = [1,3,3,2,1,1]\n",
        "    elif shape == 4: tab = [m,m,1,3,4,3]\n",
        "  elif color == 1: # minor chords\n",
        "    if shape == 0: tab = [m,4,2,1,2,m]\n",
        "    elif shape == 1: tab = [m,1,3,3,2,1]\n",
        "    elif shape == 2: tab = [4,2,1,1,4,4]\n",
        "    elif shape == 3: tab = [1,3,3,1,1,1]\n",
        "    elif shape == 4: tab = [m,m,1,3,4,2]\n",
        "\n",
        "  tab = [tab[i] if random.rand() > mute_prob else m for i in range(6)]\n",
        "\n",
        "  return [tab[i] + fret if tab[i] != m else m for i in range(6)]\n",
        "\n",
        "def positional_encoding(length, depth):\n",
        "  depth = depth/2\n",
        "\n",
        "  positions = np.arange(length)[:, np.newaxis]     # (seq, 1)\n",
        "  depths = np.arange(depth)[np.newaxis, :]/depth   # (1, depth)\n",
        "\n",
        "  angle_rates = 1 / (10000**depths)         # (1, depth)\n",
        "  angle_rads = positions * angle_rates      # (pos, depth)\n",
        "\n",
        "  pos_encoding = np.concatenate([np.sin(angle_rads), np.cos(angle_rads)], axis=-1)\n",
        "\n",
        "  return tf.cast(pos_encoding, dtype=tf.float32)\n",
        "\n",
        "class T2CPositionalEmbedding(Layer):\n",
        "  def __init__(self, vocab_size=t2c_vocab_length, dim_model=D):\n",
        "    super().__init__()\n",
        "    self.d_model = dim_model\n",
        "    self.embedding = Embedding(input_dim=vocab_size, output_dim=dim_model, mask_zero=True)\n",
        "    self.pos_encoding = positional_encoding(length=2048, depth=dim_model)\n",
        "\n",
        "  def call(self, x):\n",
        "    chords = tf.shape(x)[1]\n",
        "    x = self.embedding(x)\n",
        "    # This factor sets the relative scale of the embedding and positonal_encoding.\n",
        "    x *= tf.math.sqrt(tf.cast(self.d_model, tf.float32))\n",
        "    x = x + self.pos_encoding[tf.newaxis, :chords, :]\n",
        "    return x\n",
        "\n",
        "class T2CBaseAttention(Layer):\n",
        "  def __init__(self, **kwargs):\n",
        "    super().__init__()\n",
        "    self.mha = MultiHeadAttention(**kwargs)\n",
        "    self.layernorm = LayerNormalization()\n",
        "    self.add = Add()\n",
        "\n",
        "class T2CGlobalSelfAttention(T2CBaseAttention):\n",
        "  def call(self, x):\n",
        "    attn_output = self.mha(query=x, value=x, key=x)\n",
        "    x = self.add([x, attn_output])\n",
        "    return self.layernorm(x)\n",
        "\n",
        "class T2CFeedForward(Layer):\n",
        "  def __init__(self, dim_model=D, dim_mlp=dff, dropout_rate=dropout_rate):\n",
        "    super().__init__()\n",
        "    self.seq = tf.keras.Sequential([\n",
        "      Dense(dim_mlp, activation='relu'),\n",
        "      Dense(dim_model),\n",
        "      Dropout(dropout_rate)\n",
        "    ])\n",
        "    self.add = Add()\n",
        "    self.layer_norm = LayerNormalization()\n",
        "\n",
        "  def call(self, x):\n",
        "    x = self.add([x, self.seq(x)])\n",
        "    return self.layer_norm(x)\n",
        "\n",
        "class T2CEncoder(Layer):\n",
        "  def __init__(self,*, dim_model=D, num_heads=H, dim_mlp=dff, dropout_rate=dropout_rate):\n",
        "    super().__init__()\n",
        "    self.self_attention = T2CGlobalSelfAttention(\n",
        "        num_heads=num_heads,\n",
        "        key_dim=dim_model,\n",
        "        dropout=dropout_rate)\n",
        "    self.mlp = T2CFeedForward(dim_model=dim_model, dim_mlp=dim_mlp)\n",
        "\n",
        "  def call(self, x):\n",
        "    x = self.self_attention(x)\n",
        "    x = self.mlp(x)\n",
        "    return x\n",
        "\n",
        "class Tab2Chord(tf.keras.Model):\n",
        "    def __init__(self, *, output_dim=t2c_output_dim, dim_model=D, seq_length=N, dim_mlp=dff, L=L, dropout_rate=dropout_rate):\n",
        "        super().__init__()\n",
        "        self.dim_model = dim_model\n",
        "        self.L = L\n",
        "\n",
        "        self.embed = T2CPositionalEmbedding()\n",
        "        self.encoder_layers = [T2CEncoder() for _ in range(L)]\n",
        "        self.dropout = Dropout(dropout_rate)\n",
        "\n",
        "        self.mlp_head1 = tf.keras.Sequential([\n",
        "          Dense(dim_mlp, activation='relu'),\n",
        "          Dense(output_dim)\n",
        "        ])\n",
        "        self.mlp_head2 = tf.keras.Sequential([\n",
        "          Dense(dim_mlp, activation='relu'),\n",
        "          Dense(output_dim)\n",
        "        ])\n",
        "        self.mlp_head3 = tf.keras.Sequential([\n",
        "          Dense(dim_mlp, activation='relu'),\n",
        "          Dense(output_dim)\n",
        "        ])\n",
        "\n",
        "    def call(self, x): # x is (None, N) where None refers to batch size\n",
        "        x = self.embed(x) # (None, N, dim_model)\n",
        "        x = self.dropout(x)\n",
        "        for i in range(self.L): x = self.encoder_layers[i](x)\n",
        "\n",
        "        flatten = Flatten()\n",
        "        x = flatten(x) # (None, N*dim_model)\n",
        "        c = tf.nn.softmax(self.mlp_head1(x)) # (None, number of frets)\n",
        "        s = tf.nn.softmax(self.mlp_head2(x)) # (None, number of frets)\n",
        "        f = tf.nn.softmax(self.mlp_head3(x)) # (None, number of frets)\n",
        "\n",
        "        # consolidate csf outputs\n",
        "        y = []\n",
        "        for i in range(batch_size):\n",
        "          y.append([c[i], s[i], f[i]])\n",
        "        out = tf.stack(y)\n",
        "\n",
        "        return out\n",
        "\n",
        "# initialize tab2chord object\n",
        "t2c = Tab2Chord()\n",
        "t2c.load_weights('/content/drive/My Drive/Colab/tab2chord')"
      ],
      "metadata": {
        "colab": {
          "base_uri": "https://localhost:8080/"
        },
        "id": "ILaHrI4TO2BA",
        "outputId": "42307fb6-9c7c-4a7f-fbab-a848f5e79aac"
      },
      "execution_count": 13,
      "outputs": [
        {
          "output_type": "execute_result",
          "data": {
            "text/plain": [
              "<tensorflow.python.checkpoint.checkpoint.CheckpointLoadStatus at 0x7cf6586cbf40>"
            ]
          },
          "metadata": {},
          "execution_count": 13
        }
      ]
    },
    {
      "cell_type": "markdown",
      "source": [
        "### tones2tab model"
      ],
      "metadata": {
        "id": "YZ3X0Rs8TWfF"
      }
    },
    {
      "cell_type": "code",
      "source": [
        "T = 48\n",
        "Q = 8 # T/Q should be an integer\n",
        "N = int(T/Q)\n",
        "D = 64\n",
        "dff = 4*D\n",
        "H = 8\n",
        "L = 6\n",
        "dropout_rate = 0.1\n",
        "batch_size = 32\n",
        "t2t_vocab_length = pow(2,Q)\n",
        "t2t_output_dim = 25\n",
        "t2t_mute_prob = 0.05\n",
        "t2t_epochs = 10\n",
        "A = 440 # Hz\n",
        "guitar = [[A*pow(2,(-29+i)/12) for i in range(24)],\n",
        "          [A*pow(2,(-24+i)/12) for i in range(24)],\n",
        "          [A*pow(2,(-19+i)/12) for i in range(24)],\n",
        "          [A*pow(2,(-14+i)/12) for i in range(24)],\n",
        "          [A*pow(2,(-9+i)/12) for i in range(24)],\n",
        "          [A*pow(2,(-5+i)/12) for i in range(24)]]\n",
        "\n",
        "def positional_encoding(length, depth):\n",
        "  depth = depth/2\n",
        "\n",
        "  positions = np.arange(length)[:, np.newaxis]     # (seq, 1)\n",
        "  depths = np.arange(depth)[np.newaxis, :]/depth   # (1, depth)\n",
        "\n",
        "  angle_rates = 1 / (10000**depths)         # (1, depth)\n",
        "  angle_rads = positions * angle_rates      # (pos, depth)\n",
        "\n",
        "  pos_encoding = np.concatenate([np.sin(angle_rads), np.cos(angle_rads)], axis=-1)\n",
        "\n",
        "  return tf.cast(pos_encoding, dtype=tf.float32)\n",
        "\n",
        "class T2TPositionalEmbedding(Layer):\n",
        "  def __init__(self, vocab_size=t2t_vocab_length, dim_model=D):\n",
        "    super().__init__()\n",
        "    self.d_model = dim_model\n",
        "    self.embedding = Embedding(input_dim=vocab_size, output_dim=dim_model, mask_zero=True)\n",
        "    self.pos_encoding = positional_encoding(length=2048, depth=dim_model)\n",
        "\n",
        "  def call(self, x):\n",
        "    chords = tf.shape(x)[1]\n",
        "    x = self.embedding(x)\n",
        "    # This factor sets the relative scale of the embedding and positonal_encoding.\n",
        "    x *= tf.math.sqrt(tf.cast(self.d_model, tf.float32))\n",
        "    x = x + self.pos_encoding[tf.newaxis, :chords, :]\n",
        "    return x\n",
        "\n",
        "class T2TBaseAttention(Layer):\n",
        "  def __init__(self, **kwargs):\n",
        "    super().__init__()\n",
        "    self.mha = MultiHeadAttention(**kwargs)\n",
        "    self.layernorm = LayerNormalization()\n",
        "    self.add = Add()\n",
        "\n",
        "class T2TGlobalSelfAttention(T2TBaseAttention):\n",
        "  def call(self, x):\n",
        "    attn_output = self.mha(query=x, value=x, key=x)\n",
        "    x = self.add([x, attn_output])\n",
        "    return self.layernorm(x)\n",
        "\n",
        "class T2TFeedForward(Layer):\n",
        "  def __init__(self, dim_model=D, dim_mlp=dff, dropout_rate=dropout_rate):\n",
        "    super().__init__()\n",
        "    self.seq = tf.keras.Sequential([\n",
        "      Dense(dim_mlp, activation='relu'),\n",
        "      Dense(dim_model),\n",
        "      Dropout(dropout_rate)\n",
        "    ])\n",
        "    self.add = Add()\n",
        "    self.layer_norm = LayerNormalization()\n",
        "\n",
        "  def call(self, x):\n",
        "    x = self.add([x, self.seq(x)])\n",
        "    return self.layer_norm(x)\n",
        "\n",
        "class T2TEncoder(Layer):\n",
        "  def __init__(self,*, dim_model=D, num_heads=H, dim_mlp=dff, dropout_rate=dropout_rate):\n",
        "    super().__init__()\n",
        "    self.self_attention = T2TGlobalSelfAttention(\n",
        "        num_heads=num_heads,\n",
        "        key_dim=dim_model,\n",
        "        dropout=dropout_rate)\n",
        "    self.mlp = T2TFeedForward(dim_model=dim_model, dim_mlp=dim_mlp)\n",
        "\n",
        "  def call(self, x):\n",
        "    x = self.self_attention(x)\n",
        "    x = self.mlp(x)\n",
        "    return x\n",
        "\n",
        "class Tones2Tab(tf.keras.Model):\n",
        "    def __init__(self, *, output_dim=t2t_output_dim, dim_model=D, seq_length=N, dim_mlp=dff, L=L, dropout_rate=dropout_rate):\n",
        "        super().__init__()\n",
        "        self.dim_model = dim_model\n",
        "        self.L = L\n",
        "\n",
        "        self.embed = T2TPositionalEmbedding()\n",
        "        self.encoder_layers = [T2TEncoder() for _ in range(L)]\n",
        "        self.dropout = Dropout(dropout_rate)\n",
        "\n",
        "        self.mlp_head1 = tf.keras.Sequential([\n",
        "          Dense(dim_mlp, activation='relu'),\n",
        "          Dense(output_dim)\n",
        "        ])\n",
        "        self.mlp_head2 = tf.keras.Sequential([\n",
        "          Dense(dim_mlp, activation='relu'),\n",
        "          Dense(output_dim)\n",
        "        ])\n",
        "        self.mlp_head3 = tf.keras.Sequential([\n",
        "          Dense(dim_mlp, activation='relu'),\n",
        "          Dense(output_dim)\n",
        "        ])\n",
        "        self.mlp_head4 = tf.keras.Sequential([\n",
        "          Dense(dim_mlp, activation='relu'),\n",
        "          Dense(output_dim)\n",
        "        ])\n",
        "        self.mlp_head5 = tf.keras.Sequential([\n",
        "          Dense(dim_mlp, activation='relu'),\n",
        "          Dense(output_dim)\n",
        "        ])\n",
        "        self.mlp_head6 = tf.keras.Sequential([\n",
        "          Dense(dim_mlp, activation='relu'),\n",
        "          Dense(output_dim)\n",
        "        ])\n",
        "\n",
        "    def call(self, x): # x is (None, N) where None refers to batch size\n",
        "        x = self.embed(x) # (None, N, dim_model)\n",
        "        x = self.dropout(x)\n",
        "        for i in range(self.L): x = self.encoder_layers[i](x)\n",
        "\n",
        "        flatten = Flatten()\n",
        "        x = flatten(x) # (None, N*dim_model)\n",
        "        s1 = tf.nn.softmax(self.mlp_head1(x)) # (None, number of frets)\n",
        "        s2 = tf.nn.softmax(self.mlp_head2(x)) # (None, number of frets)\n",
        "        s3 = tf.nn.softmax(self.mlp_head3(x)) # (None, number of frets)\n",
        "        s4 = tf.nn.softmax(self.mlp_head4(x)) # (None, number of frets)\n",
        "        s5 = tf.nn.softmax(self.mlp_head5(x)) # (None, number of frets)\n",
        "        s6 = tf.nn.softmax(self.mlp_head6(x)) # (None, number of frets)\n",
        "\n",
        "        # consolidate csf outputs\n",
        "        y = []\n",
        "        for i in range(batch_size):\n",
        "          y.append([s1[i],s2[i],s3[i],s4[i],s5[i],s6[i]])\n",
        "        out = tf.stack(y)\n",
        "\n",
        "        return out\n",
        "\n",
        "# initialize seq2key object\n",
        "t2t = Tones2Tab()\n",
        "t2t.load_weights('/content/drive/My Drive/Colab/tones2tab')"
      ],
      "metadata": {
        "colab": {
          "base_uri": "https://localhost:8080/"
        },
        "id": "Peu2oJG5Tagh",
        "outputId": "3de33671-2866-4b90-b264-33b4bd84adcf"
      },
      "execution_count": 14,
      "outputs": [
        {
          "output_type": "execute_result",
          "data": {
            "text/plain": [
              "<tensorflow.python.checkpoint.checkpoint.CheckpointLoadStatus at 0x7cf65cf4eda0>"
            ]
          },
          "metadata": {},
          "execution_count": 14
        }
      ]
    },
    {
      "cell_type": "markdown",
      "source": [
        "### audio2tones estimation"
      ],
      "metadata": {
        "id": "8vYIRKR3MZfb"
      }
    },
    {
      "cell_type": "code",
      "source": [
        "def audio2tones(file_name, B, chord_size, N=num_samples, tokenize=False):\n",
        "  input_data = read(file_name)\n",
        "  audio = input_data[1]\n",
        "\n",
        "  # remove a channel\n",
        "  audio = [audio[i][0] for i in range(len(audio))]\n",
        "\n",
        "  # Linear Least Squares Estimation\n",
        "  y = B @ audio[0:N]\n",
        "\n",
        "  # convert spectrum to power and normalize\n",
        "  y = np.abs(y)**2 / N\n",
        "  data = np.real(y)\n",
        "  data = data / np.max(data)\n",
        "  raw = data.copy()\n",
        "\n",
        "  # find the highest magnitude tones. chord_size denotes the number of tones used\n",
        "  chord = np.zeros(chord_size,int)\n",
        "  for i in range(chord_size):\n",
        "    chord[i] = np.argmax(data)\n",
        "    data[chord[i]] = 0\n",
        "\n",
        "  # populate output tone vector with the tones in chord\n",
        "  tones = np.zeros(num_tones,int)\n",
        "  for i in range(chord_size): tones[chord[i]] = 1\n",
        "\n",
        "  # convert to tokens if the inputs are used as inputs to a model\n",
        "  if tokenize == True: tones = tones2tokens(tones)\n",
        "\n",
        "  return tones, raw"
      ],
      "metadata": {
        "id": "wiA22zwyMgbe"
      },
      "execution_count": 95,
      "outputs": []
    },
    {
      "cell_type": "markdown",
      "source": [
        "### conversion functions"
      ],
      "metadata": {
        "id": "IPW12wcdf1Nx"
      }
    },
    {
      "cell_type": "code",
      "source": [
        "def seq2key(seq,model=s2k):\n",
        "  input = [name2token(name,0) for name in seq]\n",
        "  input = tf.convert_to_tensor([input for i in range(32)], dtype=tf.int32)\n",
        "  soft = model(input)[0]\n",
        "  key_names = ['C','C#','D','D#','E','F','F#','G','G#','A','A#','B','Cm','C#m','Dm','D#m','Em','Fm','F#m','Gm','G#m','Am','A#m','Bm']\n",
        "  return key_names[np.argmax(soft)]"
      ],
      "metadata": {
        "id": "E2Nx9yzofhpW"
      },
      "execution_count": 16,
      "outputs": []
    },
    {
      "cell_type": "code",
      "source": [
        "def chord2token(chord):\n",
        "  return chord[0]*5*15 + chord[1]*15 + chord[2] + 1"
      ],
      "metadata": {
        "id": "M2yn60qqFhxZ"
      },
      "execution_count": 17,
      "outputs": []
    },
    {
      "cell_type": "code",
      "source": [
        "def chord2name(chord):\n",
        "  estring = ['E','F','F#','G','G#','A','A#','B','C','C#','D','D#','E','F','F#','G','A','A#']\n",
        "  astring = ['A','A#','B','C','C#','D','D#','E','F','F#','G','G#','A','A#','B','C','C#','D']\n",
        "  dstring = ['D','D#','E','F','F#','G','G#','A','A#','B','C','C#','D','D#','E','F','F#','G']\n",
        "  name = ''\n",
        "  color = chord[0]\n",
        "  shape = chord[1]\n",
        "  bar = chord[2]\n",
        "  if shape == 0: name = name + astring[bar+3]\n",
        "  elif shape == 1: name = name + astring[bar]\n",
        "  elif shape == 2: name = name + estring[bar+3]\n",
        "  elif shape == 3: name = name + estring[bar]\n",
        "  elif shape == 4: name = name + dstring[bar]\n",
        "  if color == 1: name = name + 'm'\n",
        "  return name"
      ],
      "metadata": {
        "id": "wzKD8zkFVuRz"
      },
      "execution_count": 18,
      "outputs": []
    },
    {
      "cell_type": "code",
      "source": [
        "def name2token(name,fret=0):\n",
        "  key_names = ['C','C#','D','D#','E','F','F#','G','G#','A','A#','B','Cm','C#m','Dm','D#m','Em','Fm','F#m','Gm','G#m','Am','A#m','Bm']\n",
        "  key_index = key_names.index(name)\n",
        "  chord = [int(key_index > 11), -1, fret]\n",
        "\n",
        "  diff1 = np.mod(key_index,12) - fret\n",
        "  diff2 = np.mod(key_index+3,12) - fret\n",
        "  diff3 = np.mod(key_index+5,12) - fret\n",
        "  diff4 = np.mod(key_index+8,12) - fret\n",
        "  diff5 = np.mod(key_index+10,12) - fret\n",
        "\n",
        "  low = min(abs(diff1),abs(diff2),abs(diff3),abs(diff4),abs(diff5))\n",
        "  if low == diff1: chord[1] = 0; chord[2] = diff1 + fret\n",
        "  elif low == diff2: chord[1] = 1; chord[2] = diff2 + fret\n",
        "  elif low == diff3: chord[1] = 2; chord[2] = diff3 + fret\n",
        "  elif low == diff4: chord[1] = 3; chord[2] = diff4 + fret\n",
        "  else: chord[1] = 4; chord[2] = diff5 + fret\n",
        "\n",
        "  return chord2token(chord)"
      ],
      "metadata": {
        "id": "4sZNfv_80G9W"
      },
      "execution_count": 19,
      "outputs": []
    },
    {
      "cell_type": "code",
      "source": [
        "def token2chord(token):\n",
        "  token = token - 1\n",
        "  t1 = int(token/(5*15))\n",
        "  t2 = int((token-(t1*5*15))/15)\n",
        "  t3 = token - t1*5*15 - t2*15\n",
        "  return [t1,t2,t3]"
      ],
      "metadata": {
        "id": "o_8BOmGCNBOh"
      },
      "execution_count": 20,
      "outputs": []
    },
    {
      "cell_type": "code",
      "source": [
        "def chord2tab(chord,mute_prob=0,mute_token=0,data=False):\n",
        "  m = mute_token\n",
        "  tab = [m for i in range(6)]\n",
        "  color = chord[0]\n",
        "  shape = chord[1]\n",
        "  fret = chord[2]\n",
        "\n",
        "  if color == 0: # major chords\n",
        "    if shape == 0: tab = [m,4,3,1,2,1]\n",
        "    elif shape == 1: tab = [m,1,3,3,3,1]\n",
        "    elif shape == 2: tab = [4,3,1,1,4,4]\n",
        "    elif shape == 3: tab = [1,3,3,2,1,1]\n",
        "    elif shape == 4: tab = [m,m,1,3,4,3]\n",
        "  elif color == 1: # minor chords\n",
        "    if shape == 0: tab = [m,4,2,1,2,m]\n",
        "    elif shape == 1: tab = [m,1,3,3,2,1]\n",
        "    elif shape == 2: tab = [4,2,1,1,4,4]\n",
        "    elif shape == 3: tab = [1,3,3,1,1,1]\n",
        "    elif shape == 4: tab = [m,m,1,3,4,2]\n",
        "\n",
        "  if data == False: tab = [tab[i]-1 for i in range(len(tab))]\n",
        "\n",
        "  tab = [tab[i] if random.rand() > mute_prob else m for i in range(6)]\n",
        "\n",
        "  return [tab[i] + fret if tab[i] != m else m for i in range(6)]"
      ],
      "metadata": {
        "id": "LnQhma58hys0"
      },
      "execution_count": 21,
      "outputs": []
    },
    {
      "cell_type": "code",
      "source": [
        "def seq2tab(seq,fret=0,data=False):\n",
        "  tab = []\n",
        "  for i in range(len(seq)):\n",
        "    tab.append(chord2tab(token2chord(name2token(seq[i],fret)),data=data))\n",
        "  return tab"
      ],
      "metadata": {
        "id": "qc7257w6hd3u"
      },
      "execution_count": 22,
      "outputs": []
    },
    {
      "cell_type": "code",
      "source": [
        "def tab2seq(tab,t2c_model=t2c):\n",
        "  seq = []\n",
        "  for i in range(len(tab)):\n",
        "    csf = t2c_model(tf.convert_to_tensor([tab[i] for j in range(batch_size)], tf.int32))\n",
        "    c = int(tf.math.argmax(csf[0][0]))\n",
        "    s = int(tf.math.argmax(csf[0][1]))\n",
        "    f = int(tf.math.argmax(csf[0][2]))\n",
        "    token = chord2token([c,s,f])\n",
        "    seq.append(token)\n",
        "  return tf.stack(seq)"
      ],
      "metadata": {
        "id": "aQDGhV6rxkJw"
      },
      "execution_count": 23,
      "outputs": []
    },
    {
      "cell_type": "code",
      "source": [
        "def tab2chord(tab,model=t2c):\n",
        "  input = tf.convert_to_tensor([tab[np.mod(i,len(tab))] for i in range(32)], dtype=tf.int32)\n",
        "  soft = model(input)[:len(tab)]\n",
        "  output = []\n",
        "  for i in range(len(tab)):\n",
        "    output.append(chord2name([int(tf.math.argmax(soft[i][0])),int(tf.math.argmax(soft[i][1])),int(tf.math.argmax(soft[i][2]))]))\n",
        "  return output"
      ],
      "metadata": {
        "id": "yYff6AjOr0yY"
      },
      "execution_count": 24,
      "outputs": []
    },
    {
      "cell_type": "code",
      "source": [
        "def tab2key(tab,model=t2c):\n",
        "  input = tf.convert_to_tensor([tab[np.mod(i,len(tab))] for i in range(32)], dtype=tf.int32)\n",
        "  soft = model(input)[:len(tab)]\n",
        "  output = []\n",
        "  for i in range(len(tab)):\n",
        "    output.append(chord2name([int(tf.math.argmax(soft[i][0])),int(tf.math.argmax(soft[i][1])),int(tf.math.argmax(soft[i][2]))]))\n",
        "  return seq2key(output)"
      ],
      "metadata": {
        "id": "Dm-WY1srujiP"
      },
      "execution_count": 25,
      "outputs": []
    },
    {
      "cell_type": "code",
      "source": [
        "def freq2bin(freq):\n",
        "  bin_ceils = [(440*2**((i-29)/12) + 440*2**((i-28)/12))/2 for i in range(T)]\n",
        "  for i in range(T):\n",
        "    if freq < bin_ceils[i]: return i\n",
        "  return T"
      ],
      "metadata": {
        "id": "ybkRYr5MLo9Y"
      },
      "execution_count": 26,
      "outputs": []
    },
    {
      "cell_type": "code",
      "source": [
        "def freqs2tones(freqs):\n",
        "  tones = [0 for i in range(T)]\n",
        "  for i in range(len(freqs)):\n",
        "    if freqs[i] != 0:\n",
        "      bin = freq2bin(freqs[i])\n",
        "      tones[bin] = 1\n",
        "  return tones"
      ],
      "metadata": {
        "id": "9a6B_Z0yLpWi"
      },
      "execution_count": 27,
      "outputs": []
    },
    {
      "cell_type": "code",
      "source": [
        "def tab2freqs(tab):\n",
        "  freqs = [guitar[i][tab[i]-1] if tab[i] != 0 else 0 for i in range(6)]\n",
        "  return freqs2tones(freqs)"
      ],
      "metadata": {
        "id": "krXNoK8oLq28"
      },
      "execution_count": 28,
      "outputs": []
    },
    {
      "cell_type": "code",
      "source": [
        "def tones2tokens(tones,Q=8,num_tones=num_tones):\n",
        "  # convert length num_tones binary array to a sequence of tokens. Tokens are made by converting sets of Q binary entries in tones to decimal\n",
        "  tokens = [0 for i in range(int(num_tones/Q))]\n",
        "  binaries = [pow(2,i) for i in range(Q)]\n",
        "  for i in range(int(num_tones/Q)):\n",
        "    b = tones[i*Q:i*Q+Q]\n",
        "    tokens[i] = np.inner(binaries,b)\n",
        "  return tokens"
      ],
      "metadata": {
        "id": "NziJWWt0asgP"
      },
      "execution_count": 29,
      "outputs": []
    },
    {
      "cell_type": "code",
      "source": [
        "def tones2tab(tones,model=t2t):\n",
        "  input = tf.convert_to_tensor([tones for i in range(32)], dtype=tf.int32)\n",
        "  soft = model(input)[0]\n",
        "  output = []\n",
        "  for i in range(len(tones)):\n",
        "    output.append(int(tf.math.argmax(soft[i]))-1)\n",
        "  return output"
      ],
      "metadata": {
        "id": "O34HOctwck6I"
      },
      "execution_count": 30,
      "outputs": []
    },
    {
      "cell_type": "code",
      "source": [
        "def tones2chord(tones,model=t2t):\n",
        "  input = tf.convert_to_tensor([tones for i in range(32)], dtype=tf.int32)\n",
        "  soft = model(input)[0]\n",
        "  output = []\n",
        "  for i in range(len(tones)):\n",
        "    output.append(int(tf.math.argmax(soft[i]))-1)\n",
        "  return tab2chord([output])"
      ],
      "metadata": {
        "id": "TdkoMFyIhcjj"
      },
      "execution_count": 31,
      "outputs": []
    },
    {
      "cell_type": "markdown",
      "source": [
        "# usage"
      ],
      "metadata": {
        "id": "b44ssSsvMDEx"
      }
    },
    {
      "cell_type": "code",
      "source": [
        "# find the key of a progression\n",
        "seq2key(['Am','Am','F#','F#'])"
      ],
      "metadata": {
        "colab": {
          "base_uri": "https://localhost:8080/",
          "height": 35
        },
        "id": "rEzQ59mfMQ1b",
        "outputId": "8b3aa3e5-3e42-4b21-93d4-4b5de045a179"
      },
      "execution_count": 32,
      "outputs": [
        {
          "output_type": "execute_result",
          "data": {
            "text/plain": [
              "'F#'"
            ],
            "application/vnd.google.colaboratory.intrinsic+json": {
              "type": "string"
            }
          },
          "metadata": {},
          "execution_count": 32
        }
      ]
    },
    {
      "cell_type": "code",
      "source": [
        "# find the tab for a progression\n",
        "seq2tab(['Am','Am','F#','F#'])"
      ],
      "metadata": {
        "colab": {
          "base_uri": "https://localhost:8080/"
        },
        "id": "cA6CmychhQAF",
        "outputId": "c480cce9-062d-4748-f11b-4c02d8dc84f0"
      },
      "execution_count": 33,
      "outputs": [
        {
          "output_type": "execute_result",
          "data": {
            "text/plain": [
              "[[-1, 0, 2, 2, 1, 0],\n",
              " [-1, 0, 2, 2, 1, 0],\n",
              " [0, 4, 4, 3, 0, 0],\n",
              " [0, 4, 4, 3, 0, 0]]"
            ]
          },
          "metadata": {},
          "execution_count": 33
        }
      ]
    },
    {
      "cell_type": "code",
      "source": [
        "# find the chords in a tab\n",
        "tab = seq2tab(['C','G','C','F'],data=True)\n",
        "tab2chord(tab)"
      ],
      "metadata": {
        "colab": {
          "base_uri": "https://localhost:8080/"
        },
        "id": "sQIZEswwrOEb",
        "outputId": "6b38c9e4-b64d-4aaa-acb6-5147759f6a61"
      },
      "execution_count": 34,
      "outputs": [
        {
          "output_type": "execute_result",
          "data": {
            "text/plain": [
              "['C', 'G', 'C', 'F']"
            ]
          },
          "metadata": {},
          "execution_count": 34
        }
      ]
    },
    {
      "cell_type": "code",
      "source": [
        "# find the key of a tab\n",
        "tab = seq2tab(['C','G','C','F'],data=True)\n",
        "tab2key(tab)"
      ],
      "metadata": {
        "colab": {
          "base_uri": "https://localhost:8080/",
          "height": 35
        },
        "id": "LglQ-awauV6T",
        "outputId": "b04e6f3d-6026-4b1b-d59b-1974d0c1b553"
      },
      "execution_count": 92,
      "outputs": [
        {
          "output_type": "execute_result",
          "data": {
            "text/plain": [
              "'C'"
            ],
            "application/vnd.google.colaboratory.intrinsic+json": {
              "type": "string"
            }
          },
          "metadata": {},
          "execution_count": 92
        }
      ]
    },
    {
      "cell_type": "code",
      "source": [
        "# find tones from audio file\n",
        "B = np.load('B.npy')\n",
        "a,b = audio2tones('gnote.wav', B, 6)\n",
        "\n",
        "plt.figure(figsize=(20,4))\n",
        "plt.stem(b)\n",
        "plt.stem(a,'r')\n",
        "plt.xlabel('Tone')\n",
        "plt.ylabel('Played (yes/no)')\n",
        "plt.title('Tones found in audio')\n",
        "plt.xticks(range(len(a)),tones)\n",
        "plt.show()"
      ],
      "metadata": {
        "colab": {
          "base_uri": "https://localhost:8080/",
          "height": 316
        },
        "id": "sByIBnzMM1IL",
        "outputId": "395d51ea-91b5-4a11-ebf8-c6ddc0af877e"
      },
      "execution_count": 97,
      "outputs": [
        {
          "output_type": "stream",
          "name": "stderr",
          "text": [
            "<ipython-input-95-fa17d3b7b064>:2: WavFileWarning: Chunk (non-data) not understood, skipping it.\n",
            "  input_data = read(file_name)\n"
          ]
        },
        {
          "output_type": "display_data",
          "data": {
            "text/plain": [
              "<Figure size 2000x400 with 1 Axes>"
            ],
            "image/png": "[encoded data removed]"
          },
          "metadata": {}
        }
      ]
    },
    {
      "cell_type": "code",
      "source": [
        "# find tab from tones\n",
        "tones,raw = audio2tones('gnote.wav', B, 6, tokenize=True)\n",
        "tones2tab(tones)"
      ],
      "metadata": {
        "colab": {
          "base_uri": "https://localhost:8080/"
        },
        "id": "mOtCTrHDZg5C",
        "outputId": "9dd80e2e-1892-483f-b09f-a4b671c26740"
      },
      "execution_count": 102,
      "outputs": [
        {
          "output_type": "stream",
          "name": "stderr",
          "text": [
            "<ipython-input-95-fa17d3b7b064>:2: WavFileWarning: Chunk (non-data) not understood, skipping it.\n",
            "  input_data = read(file_name)\n"
          ]
        },
        {
          "output_type": "execute_result",
          "data": {
            "text/plain": [
              "[11, 10, -1, 8, -1, -1]"
            ]
          },
          "metadata": {},
          "execution_count": 102
        }
      ]
    },
    {
      "cell_type": "code",
      "source": [
        "# find chord from tones\n",
        "tones,raw = audio2tones('gnote.wav', B, 3, tokenize=True)\n",
        "tones2chord(tones)"
      ],
      "metadata": {
        "colab": {
          "base_uri": "https://localhost:8080/"
        },
        "id": "rPsp63cNhKqs",
        "outputId": "23852b47-d54e-4aa4-f622-98862fb6223d"
      },
      "execution_count": 103,
      "outputs": [
        {
          "output_type": "stream",
          "name": "stderr",
          "text": [
            "<ipython-input-95-fa17d3b7b064>:2: WavFileWarning: Chunk (non-data) not understood, skipping it.\n",
            "  input_data = read(file_name)\n"
          ]
        },
        {
          "output_type": "execute_result",
          "data": {
            "text/plain": [
              "['Am']"
            ]
          },
          "metadata": {},
          "execution_count": 103
        }
      ]
    }
  ]
}